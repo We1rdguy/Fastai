{
  "nbformat": 4,
  "nbformat_minor": 0,
  "metadata": {
    "colab": {
      "name": "CNN with Pytorch for MNIST.ipynb",
      "version": "0.3.2",
      "provenance": [],
      "collapsed_sections": [],
      "include_colab_link": true
    },
    "kernelspec": {
      "name": "python3",
      "display_name": "Python 3"
    },
    "accelerator": "GPU"
  },
  "cells": [
    {
      "cell_type": "markdown",
      "metadata": {
        "id": "view-in-github",
        "colab_type": "text"
      },
      "source": [
        "<a href=\"https://colab.research.google.com/github/We1rdguy/Fastai/blob/master/CNN_with_Pytorch_for_MNIST.ipynb\" target=\"_parent\"><img src=\"https://colab.research.google.com/assets/colab-badge.svg\" alt=\"Open In Colab\"/></a>"
      ]
    },
    {
      "metadata": {
        "id": "IMVhfWVZbezS",
        "colab_type": "code",
        "colab": {}
      },
      "cell_type": "code",
      "source": [
        "import numpy as np # to handle matrix and data operation\n",
        "import pandas as pd # to read csv and handle dataframe\n",
        "\n",
        "import torch\n",
        "import torch.nn as nn\n",
        "import torch.nn.functional as F\n",
        "import torch.utils.data\n",
        "from torch.autograd import Variable\n",
        "from torchsummary import summary\n",
        "from sklearn.model_selection import train_test_split"
      ],
      "execution_count": 0,
      "outputs": []
    },
    {
      "metadata": {
        "id": "YEFHUyNsbnKk",
        "colab_type": "code",
        "colab": {
          "base_uri": "https://localhost:8080/",
          "height": 122
        },
        "outputId": "36169395-c8bc-4c9a-a1a6-cc40b0de1df3"
      },
      "cell_type": "code",
      "source": [
        "from google.colab import drive\n",
        "drive.mount('/content/gdrive')"
      ],
      "execution_count": 5,
      "outputs": [
        {
          "output_type": "stream",
          "text": [
            "Go to this URL in a browser: https://accounts.google.com/o/oauth2/auth?client_id=947318989803-6bn6qk8qdgf4n4g3pfee6491hc0brc4i.apps.googleusercontent.com&redirect_uri=urn%3Aietf%3Awg%3Aoauth%3A2.0%3Aoob&scope=email%20https%3A%2F%2Fwww.googleapis.com%2Fauth%2Fdocs.test%20https%3A%2F%2Fwww.googleapis.com%2Fauth%2Fdrive%20https%3A%2F%2Fwww.googleapis.com%2Fauth%2Fdrive.photos.readonly%20https%3A%2F%2Fwww.googleapis.com%2Fauth%2Fpeopleapi.readonly&response_type=code\n",
            "\n",
            "Enter your authorization code:\n",
            "··········\n",
            "Mounted at /content/gdrive\n"
          ],
          "name": "stdout"
        }
      ]
    },
    {
      "metadata": {
        "id": "58Pa7wJ4b8u8",
        "colab_type": "code",
        "colab": {}
      },
      "cell_type": "code",
      "source": [
        "import os\n",
        "dataset_path=\"gdrive/My Drive/Dataset/MNIST\"\n",
        "os.chdir(dataset_path)"
      ],
      "execution_count": 0,
      "outputs": []
    },
    {
      "metadata": {
        "id": "5D-u7jtScVhs",
        "colab_type": "code",
        "colab": {
          "base_uri": "https://localhost:8080/",
          "height": 34
        },
        "outputId": "34c1ad80-e7e1-43dc-c56e-a84b2f71a849"
      },
      "cell_type": "code",
      "source": [
        "! ls"
      ],
      "execution_count": 7,
      "outputs": [
        {
          "output_type": "stream",
          "text": [
            "digit-recognizer.zip  graph.png  sample_submission.csv\ttest.csv  train.csv\n"
          ],
          "name": "stdout"
        }
      ]
    },
    {
      "metadata": {
        "id": "BD65mA6lcinE",
        "colab_type": "code",
        "colab": {}
      },
      "cell_type": "code",
      "source": [
        "import pandas as pd"
      ],
      "execution_count": 0,
      "outputs": []
    },
    {
      "metadata": {
        "id": "Ce6Fmcq-cssE",
        "colab_type": "code",
        "colab": {
          "base_uri": "https://localhost:8080/",
          "height": 34
        },
        "outputId": "d6880618-0fef-4857-d3e1-b7d327222dfd"
      },
      "cell_type": "code",
      "source": [
        "df = pd.read_csv(\"train.csv\")\n",
        "print(df.shape)"
      ],
      "execution_count": 9,
      "outputs": [
        {
          "output_type": "stream",
          "text": [
            "(42000, 785)\n"
          ],
          "name": "stdout"
        }
      ]
    },
    {
      "metadata": {
        "id": "--D1NrN7dd-M",
        "colab_type": "code",
        "colab": {}
      },
      "cell_type": "code",
      "source": [
        "y = df['label'].values\n",
        "X = df.drop(['label'],1).values\n",
        "\n",
        "X_train, X_test, y_train, y_test = train_test_split(X, y, test_size=0.15)"
      ],
      "execution_count": 0,
      "outputs": []
    },
    {
      "metadata": {
        "id": "yinMFnY_dmIr",
        "colab_type": "code",
        "colab": {
          "base_uri": "https://localhost:8080/",
          "height": 34
        },
        "outputId": "d4fd4ebd-1b2f-4186-cab9-95bc28a3da30"
      },
      "cell_type": "code",
      "source": [
        "print(y_test.shape)"
      ],
      "execution_count": 11,
      "outputs": [
        {
          "output_type": "stream",
          "text": [
            "(6300,)\n"
          ],
          "name": "stdout"
        }
      ]
    },
    {
      "metadata": {
        "id": "NlEDxO_qd1ir",
        "colab_type": "code",
        "colab": {}
      },
      "cell_type": "code",
      "source": [
        "BATCH_SIZE = 32\n",
        "\n",
        "torch_X_train = torch_X_train.view(-1, 1,28,28).float().cuda()\n",
        "torch_X_test = torch_X_test.view(-1,1,28,28).float().cuda()\n",
        "\n",
        "# Pytorch train and test sets\n",
        "train = torch.utils.data.TensorDataset(torch_X_train,torch_y_train)\n",
        "test = torch.utils.data.TensorDataset(torch_X_test,torch_y_test)\n",
        "\n",
        "# data loader\n",
        "train_loader = torch.utils.data.DataLoader(train, batch_size = BATCH_SIZE, shuffle = False)\n",
        "test_loader = torch.utils.data.DataLoader(test, batch_size = BATCH_SIZE, shuffle = False)"
      ],
      "execution_count": 0,
      "outputs": []
    },
    {
      "metadata": {
        "id": "noOfDMpehqcj",
        "colab_type": "code",
        "colab": {
          "base_uri": "https://localhost:8080/",
          "height": 51
        },
        "outputId": "ef3cd211-ac6f-4c8e-ae39-f110fe4cd90b"
      },
      "cell_type": "code",
      "source": [
        "print(torch_X_train.shape)\n",
        "print(torch_X_test.shape)"
      ],
      "execution_count": 33,
      "outputs": [
        {
          "output_type": "stream",
          "text": [
            "torch.Size([35700, 1, 28, 28])\n",
            "torch.Size([6300, 1, 28, 28])\n"
          ],
          "name": "stdout"
        }
      ]
    },
    {
      "metadata": {
        "id": "rpWMYVkwiX3z",
        "colab_type": "code",
        "colab": {
          "base_uri": "https://localhost:8080/",
          "height": 323
        },
        "outputId": "7718f050-897f-4033-8369-1316ce2cce08"
      },
      "cell_type": "code",
      "source": [
        "\n",
        "class CNN(nn.Module):\n",
        "  def __init__(self):\n",
        "    super(CNN, self).__init__()\n",
        "    self.conv1 = nn.Conv2d(1, 32, kernel_size=5)\n",
        "    self.conv2 = nn.Conv2d(32, 32, kernel_size=5)\n",
        "    self.conv3 = nn.Conv2d(32,64, kernel_size=5)\n",
        "    self.fc1 = nn.Linear(3*3*64, 256)\n",
        "    self.fc2 = nn.Linear(256, 10)\n",
        "\n",
        "  def forward(self, x):\n",
        "    x = F.relu(self.conv1(x))\n",
        "    x = F.dropout(x, p=0.5, training=self.training)\n",
        "    x = F.relu(F.max_pool2d(self.conv2(x), 2))\n",
        "    x = F.dropout(x, p=0.5, training=self.training)\n",
        "    x = F.relu(F.max_pool2d(self.conv3(x),2))\n",
        "    x = F.dropout(x, p=0.5, training=self.training)\n",
        "    x = x.view(-1,3*3*64 )\n",
        "    x = F.relu(self.fc1(x))\n",
        "    x = F.dropout(x, training=self.training)\n",
        "    x = self.fc2(x)\n",
        "    return F.log_softmax(x, dim=1)\n",
        "\n",
        "device = torch.device(\"cuda\" if torch.cuda.is_available() else \"cpu\") # PyTorch v0.4.0\n",
        "cnn = CNN().to(device)\n",
        "summary(cnn, (1, 28, 28))\n",
        "      "
      ],
      "execution_count": 36,
      "outputs": [
        {
          "output_type": "stream",
          "text": [
            "----------------------------------------------------------------\n",
            "        Layer (type)               Output Shape         Param #\n",
            "================================================================\n",
            "            Conv2d-1           [-1, 32, 24, 24]             832\n",
            "            Conv2d-2           [-1, 32, 20, 20]          25,632\n",
            "            Conv2d-3             [-1, 64, 6, 6]          51,264\n",
            "            Linear-4                  [-1, 256]         147,712\n",
            "            Linear-5                   [-1, 10]           2,570\n",
            "================================================================\n",
            "Total params: 228,010\n",
            "Trainable params: 228,010\n",
            "Non-trainable params: 0\n",
            "----------------------------------------------------------------\n",
            "Input size (MB): 0.00\n",
            "Forward/backward pass size (MB): 0.26\n",
            "Params size (MB): 0.87\n",
            "Estimated Total Size (MB): 1.13\n",
            "----------------------------------------------------------------\n"
          ],
          "name": "stdout"
        }
      ]
    },
    {
      "metadata": {
        "id": "HZ8MoxHGlX2j",
        "colab_type": "code",
        "colab": {
          "base_uri": "https://localhost:8080/",
          "height": 34
        },
        "outputId": "22eac78f-356d-4cdc-c659-94d86687a3ea"
      },
      "cell_type": "code",
      "source": [
        "it = iter(train_loader)\n",
        "X_batch, y_batch = next(it)\n",
        "print(cnn.forward(X_batch).shape)"
      ],
      "execution_count": 37,
      "outputs": [
        {
          "output_type": "stream",
          "text": [
            "torch.Size([32, 10])\n"
          ],
          "name": "stdout"
        }
      ]
    },
    {
      "metadata": {
        "id": "-aCnX8zMma8i",
        "colab_type": "code",
        "colab": {}
      },
      "cell_type": "code",
      "source": [
        "def fit(model, train_loader):\n",
        "    optimizer = torch.optim.Adam(model.parameters())#,lr=0.001, betas=(0.9,0.999))\n",
        "    error = nn.CrossEntropyLoss()\n",
        "    EPOCHS = 5\n",
        "    model.train()\n",
        "    for epoch in range(EPOCHS):\n",
        "      correct = 0\n",
        "      for batch_idx, (X_batch, y_batch) in enumerate(train_loader):\n",
        "        var_X_batch = Variable(X_batch).float()\n",
        "        var_y_batch = Variable(y_batch).cuda()\n",
        "        optimizer.zero_grad()\n",
        "        output = model(var_X_batch)\n",
        "        loss = error(output, var_y_batch)\n",
        "        loss.backward()\n",
        "        optimizer.step()\n",
        "        \n",
        "        # Total correct predictions\n",
        "        predicted = torch.max(output.data, 1)[1] \n",
        "        correct += (predicted == var_y_batch).sum().cuda()\n",
        "        \n",
        "        #print(correct)\n",
        "        if batch_idx % 50 == 0:\n",
        "          print('Epoch : {} [{}/{} ({:.0f}%)]\\tLoss: {:.6f}\\t Accuracy:{:.3f}%'.format(\n",
        "              epoch, \n",
        "              batch_idx*len(X_batch), \n",
        "              len(train_loader.dataset), \n",
        "              100.*batch_idx / len(train_loader), \n",
        "              loss.data, \n",
        "              float(correct*100) / float(BATCH_SIZE*(batch_idx+1))))"
      ],
      "execution_count": 0,
      "outputs": []
    },
    {
      "metadata": {
        "id": "sS1__X82wxfw",
        "colab_type": "code",
        "colab": {
          "base_uri": "https://localhost:8080/",
          "height": 1972
        },
        "outputId": "da34c7bb-d01a-4aec-ad5e-8f7b09ff4e30"
      },
      "cell_type": "code",
      "source": [
        "fit(cnn,train_loader)"
      ],
      "execution_count": 70,
      "outputs": [
        {
          "output_type": "stream",
          "text": [
            "Epoch : 0 [0/35700 (0%)]\tLoss: 0.099395\t Accuracy:96.875%\n",
            "Epoch : 0 [1600/35700 (4%)]\tLoss: 0.108511\t Accuracy:94.363%\n",
            "Epoch : 0 [3200/35700 (9%)]\tLoss: 0.104907\t Accuracy:94.616%\n",
            "Epoch : 0 [4800/35700 (13%)]\tLoss: 0.204859\t Accuracy:94.495%\n",
            "Epoch : 0 [6400/35700 (18%)]\tLoss: 0.382906\t Accuracy:94.574%\n",
            "Epoch : 0 [8000/35700 (22%)]\tLoss: 0.005160\t Accuracy:94.646%\n",
            "Epoch : 0 [9600/35700 (27%)]\tLoss: 0.122724\t Accuracy:94.539%\n",
            "Epoch : 0 [11200/35700 (31%)]\tLoss: 0.189900\t Accuracy:94.489%\n",
            "Epoch : 0 [12800/35700 (36%)]\tLoss: 0.263274\t Accuracy:94.490%\n",
            "Epoch : 0 [14400/35700 (40%)]\tLoss: 0.608493\t Accuracy:94.374%\n",
            "Epoch : 0 [16000/35700 (45%)]\tLoss: 0.087857\t Accuracy:94.380%\n",
            "Epoch : 0 [17600/35700 (49%)]\tLoss: 0.158362\t Accuracy:94.323%\n",
            "Epoch : 0 [19200/35700 (54%)]\tLoss: 0.172437\t Accuracy:94.317%\n",
            "Epoch : 0 [20800/35700 (58%)]\tLoss: 0.508515\t Accuracy:94.230%\n",
            "Epoch : 0 [22400/35700 (63%)]\tLoss: 0.307453\t Accuracy:94.316%\n",
            "Epoch : 0 [24000/35700 (67%)]\tLoss: 0.229471\t Accuracy:94.337%\n",
            "Epoch : 0 [25600/35700 (72%)]\tLoss: 0.208711\t Accuracy:94.339%\n",
            "Epoch : 0 [27200/35700 (76%)]\tLoss: 0.299332\t Accuracy:94.301%\n",
            "Epoch : 0 [28800/35700 (81%)]\tLoss: 0.283734\t Accuracy:94.308%\n",
            "Epoch : 0 [30400/35700 (85%)]\tLoss: 0.314704\t Accuracy:94.332%\n",
            "Epoch : 0 [32000/35700 (90%)]\tLoss: 0.327254\t Accuracy:94.315%\n",
            "Epoch : 0 [33600/35700 (94%)]\tLoss: 0.226639\t Accuracy:94.321%\n",
            "Epoch : 0 [35200/35700 (99%)]\tLoss: 0.130177\t Accuracy:94.318%\n",
            "Epoch : 1 [0/35700 (0%)]\tLoss: 0.021797\t Accuracy:100.000%\n",
            "Epoch : 1 [1600/35700 (4%)]\tLoss: 0.137187\t Accuracy:94.056%\n",
            "Epoch : 1 [3200/35700 (9%)]\tLoss: 0.256809\t Accuracy:94.245%\n",
            "Epoch : 1 [4800/35700 (13%)]\tLoss: 0.206520\t Accuracy:94.081%\n",
            "Epoch : 1 [6400/35700 (18%)]\tLoss: 0.135308\t Accuracy:94.076%\n",
            "Epoch : 1 [8000/35700 (22%)]\tLoss: 0.032796\t Accuracy:93.937%\n",
            "Epoch : 1 [9600/35700 (27%)]\tLoss: 0.019367\t Accuracy:94.072%\n",
            "Epoch : 1 [11200/35700 (31%)]\tLoss: 0.046426\t Accuracy:93.955%\n",
            "Epoch : 1 [12800/35700 (36%)]\tLoss: 0.024977\t Accuracy:93.945%\n",
            "Epoch : 1 [14400/35700 (40%)]\tLoss: 0.189318\t Accuracy:93.951%\n",
            "Epoch : 1 [16000/35700 (45%)]\tLoss: 0.089289\t Accuracy:94.018%\n",
            "Epoch : 1 [17600/35700 (49%)]\tLoss: 0.199516\t Accuracy:94.102%\n",
            "Epoch : 1 [19200/35700 (54%)]\tLoss: 0.080472\t Accuracy:94.213%\n",
            "Epoch : 1 [20800/35700 (58%)]\tLoss: 0.079697\t Accuracy:94.264%\n",
            "Epoch : 1 [22400/35700 (63%)]\tLoss: 0.128798\t Accuracy:94.321%\n",
            "Epoch : 1 [24000/35700 (67%)]\tLoss: 0.044879\t Accuracy:94.308%\n",
            "Epoch : 1 [25600/35700 (72%)]\tLoss: 0.055970\t Accuracy:94.394%\n",
            "Epoch : 1 [27200/35700 (76%)]\tLoss: 0.162404\t Accuracy:94.396%\n",
            "Epoch : 1 [28800/35700 (81%)]\tLoss: 0.050746\t Accuracy:94.409%\n",
            "Epoch : 1 [30400/35700 (85%)]\tLoss: 0.087519\t Accuracy:94.364%\n",
            "Epoch : 1 [32000/35700 (90%)]\tLoss: 0.725895\t Accuracy:94.309%\n",
            "Epoch : 1 [33600/35700 (94%)]\tLoss: 0.227667\t Accuracy:94.282%\n",
            "Epoch : 1 [35200/35700 (99%)]\tLoss: 0.094713\t Accuracy:94.201%\n",
            "Epoch : 2 [0/35700 (0%)]\tLoss: 0.030306\t Accuracy:100.000%\n",
            "Epoch : 2 [1600/35700 (4%)]\tLoss: 0.142215\t Accuracy:93.995%\n",
            "Epoch : 2 [3200/35700 (9%)]\tLoss: 0.455809\t Accuracy:93.998%\n",
            "Epoch : 2 [4800/35700 (13%)]\tLoss: 0.230724\t Accuracy:94.309%\n",
            "Epoch : 2 [6400/35700 (18%)]\tLoss: 0.055258\t Accuracy:94.154%\n",
            "Epoch : 2 [8000/35700 (22%)]\tLoss: 0.002536\t Accuracy:94.074%\n",
            "Epoch : 2 [9600/35700 (27%)]\tLoss: 0.001985\t Accuracy:94.041%\n",
            "Epoch : 2 [11200/35700 (31%)]\tLoss: 0.146203\t Accuracy:94.079%\n",
            "Epoch : 2 [12800/35700 (36%)]\tLoss: 0.007339\t Accuracy:94.202%\n",
            "Epoch : 2 [14400/35700 (40%)]\tLoss: 0.217621\t Accuracy:94.249%\n",
            "Epoch : 2 [16000/35700 (45%)]\tLoss: 0.009118\t Accuracy:94.212%\n",
            "Epoch : 2 [17600/35700 (49%)]\tLoss: 0.060670\t Accuracy:94.243%\n",
            "Epoch : 2 [19200/35700 (54%)]\tLoss: 0.547624\t Accuracy:94.296%\n",
            "Epoch : 2 [20800/35700 (58%)]\tLoss: 0.093856\t Accuracy:94.345%\n",
            "Epoch : 2 [22400/35700 (63%)]\tLoss: 0.260872\t Accuracy:94.410%\n",
            "Epoch : 2 [24000/35700 (67%)]\tLoss: 0.075960\t Accuracy:94.428%\n",
            "Epoch : 2 [25600/35700 (72%)]\tLoss: 0.493314\t Accuracy:94.452%\n",
            "Epoch : 2 [27200/35700 (76%)]\tLoss: 0.241751\t Accuracy:94.481%\n",
            "Epoch : 2 [28800/35700 (81%)]\tLoss: 0.016158\t Accuracy:94.482%\n",
            "Epoch : 2 [30400/35700 (85%)]\tLoss: 0.056389\t Accuracy:94.506%\n",
            "Epoch : 2 [32000/35700 (90%)]\tLoss: 0.882189\t Accuracy:94.431%\n",
            "Epoch : 2 [33600/35700 (94%)]\tLoss: 0.276867\t Accuracy:94.440%\n",
            "Epoch : 2 [35200/35700 (99%)]\tLoss: 0.084113\t Accuracy:94.403%\n",
            "Epoch : 3 [0/35700 (0%)]\tLoss: 0.129085\t Accuracy:93.750%\n",
            "Epoch : 3 [1600/35700 (4%)]\tLoss: 0.160115\t Accuracy:94.363%\n",
            "Epoch : 3 [3200/35700 (9%)]\tLoss: 0.050803\t Accuracy:94.400%\n",
            "Epoch : 3 [4800/35700 (13%)]\tLoss: 0.069600\t Accuracy:94.350%\n",
            "Epoch : 3 [6400/35700 (18%)]\tLoss: 0.242667\t Accuracy:94.201%\n",
            "Epoch : 3 [8000/35700 (22%)]\tLoss: 0.003826\t Accuracy:94.348%\n",
            "Epoch : 3 [9600/35700 (27%)]\tLoss: 0.094300\t Accuracy:94.061%\n",
            "Epoch : 3 [11200/35700 (31%)]\tLoss: 0.321303\t Accuracy:94.142%\n",
            "Epoch : 3 [12800/35700 (36%)]\tLoss: 0.189492\t Accuracy:93.984%\n",
            "Epoch : 3 [14400/35700 (40%)]\tLoss: 0.261587\t Accuracy:94.034%\n",
            "Epoch : 3 [16000/35700 (45%)]\tLoss: 0.017171\t Accuracy:94.137%\n",
            "Epoch : 3 [17600/35700 (49%)]\tLoss: 0.040449\t Accuracy:94.170%\n",
            "Epoch : 3 [19200/35700 (54%)]\tLoss: 0.572360\t Accuracy:94.234%\n",
            "Epoch : 3 [20800/35700 (58%)]\tLoss: 0.022796\t Accuracy:94.288%\n",
            "Epoch : 3 [22400/35700 (63%)]\tLoss: 0.087998\t Accuracy:94.347%\n",
            "Epoch : 3 [24000/35700 (67%)]\tLoss: 0.046541\t Accuracy:94.370%\n",
            "Epoch : 3 [25600/35700 (72%)]\tLoss: 0.322944\t Accuracy:94.394%\n",
            "Epoch : 3 [27200/35700 (76%)]\tLoss: 0.062002\t Accuracy:94.356%\n",
            "Epoch : 3 [28800/35700 (81%)]\tLoss: 0.074663\t Accuracy:94.395%\n",
            "Epoch : 3 [30400/35700 (85%)]\tLoss: 0.103661\t Accuracy:94.450%\n",
            "Epoch : 3 [32000/35700 (90%)]\tLoss: 0.791723\t Accuracy:94.387%\n",
            "Epoch : 3 [33600/35700 (94%)]\tLoss: 0.498663\t Accuracy:94.428%\n",
            "Epoch : 3 [35200/35700 (99%)]\tLoss: 0.242996\t Accuracy:94.403%\n",
            "Epoch : 4 [0/35700 (0%)]\tLoss: 0.012627\t Accuracy:100.000%\n",
            "Epoch : 4 [1600/35700 (4%)]\tLoss: 0.000305\t Accuracy:95.221%\n",
            "Epoch : 4 [3200/35700 (9%)]\tLoss: 0.229366\t Accuracy:95.204%\n",
            "Epoch : 4 [4800/35700 (13%)]\tLoss: 0.042856\t Accuracy:94.992%\n",
            "Epoch : 4 [6400/35700 (18%)]\tLoss: 0.126800\t Accuracy:94.792%\n",
            "Epoch : 4 [8000/35700 (22%)]\tLoss: 0.029005\t Accuracy:94.709%\n",
            "Epoch : 4 [9600/35700 (27%)]\tLoss: 0.064602\t Accuracy:94.716%\n",
            "Epoch : 4 [11200/35700 (31%)]\tLoss: 0.245080\t Accuracy:94.827%\n",
            "Epoch : 4 [12800/35700 (36%)]\tLoss: 0.096559\t Accuracy:94.662%\n",
            "Epoch : 4 [14400/35700 (40%)]\tLoss: 0.167660\t Accuracy:94.623%\n",
            "Epoch : 4 [16000/35700 (45%)]\tLoss: 0.025514\t Accuracy:94.679%\n",
            "Epoch : 4 [17600/35700 (49%)]\tLoss: 0.091303\t Accuracy:94.805%\n",
            "Epoch : 4 [19200/35700 (54%)]\tLoss: 0.151027\t Accuracy:94.806%\n",
            "Epoch : 4 [20800/35700 (58%)]\tLoss: 0.034415\t Accuracy:94.835%\n",
            "Epoch : 4 [22400/35700 (63%)]\tLoss: 0.297601\t Accuracy:94.829%\n",
            "Epoch : 4 [24000/35700 (67%)]\tLoss: 0.003608\t Accuracy:94.832%\n",
            "Epoch : 4 [25600/35700 (72%)]\tLoss: 0.259255\t Accuracy:94.920%\n",
            "Epoch : 4 [27200/35700 (76%)]\tLoss: 0.022216\t Accuracy:94.921%\n",
            "Epoch : 4 [28800/35700 (81%)]\tLoss: 0.033490\t Accuracy:94.915%\n",
            "Epoch : 4 [30400/35700 (85%)]\tLoss: 0.149856\t Accuracy:94.943%\n",
            "Epoch : 4 [32000/35700 (90%)]\tLoss: 0.502562\t Accuracy:94.918%\n",
            "Epoch : 4 [33600/35700 (94%)]\tLoss: 0.462571\t Accuracy:94.916%\n",
            "Epoch : 4 [35200/35700 (99%)]\tLoss: 0.202662\t Accuracy:94.854%\n"
          ],
          "name": "stdout"
        }
      ]
    },
    {
      "metadata": {
        "id": "870TcTCnm4Up",
        "colab_type": "code",
        "colab": {}
      },
      "cell_type": "code",
      "source": [
        "def evaluate(model):\n",
        "  correct = 0\n",
        "  for test_imgs, test_labels in test_loader:\n",
        "    #print(test_imgs.shape)\n",
        "    test_imgs = Variable(test_imgs).float()\n",
        "    output = model(test_imgs)\n",
        "    predicted = torch.max(output,1)[1]\n",
        "    correct += (predicted == test_labels).sum()\n",
        "    \n",
        "  print(\"Test accuracy:{:.3f}% \".format( float(correct) / (len(test_loader)*BATCH_SIZE)))  "
      ],
      "execution_count": 0,
      "outputs": []
    },
    {
      "metadata": {
        "id": "is7WcD3lqraI",
        "colab_type": "code",
        "colab": {
          "base_uri": "https://localhost:8080/",
          "height": 284
        },
        "outputId": "274f970a-e3c5-4f07-fdf8-7d304a5c3f82"
      },
      "cell_type": "code",
      "source": [
        "evaluate(cnn)"
      ],
      "execution_count": 72,
      "outputs": [
        {
          "output_type": "error",
          "ename": "RuntimeError",
          "evalue": "ignored",
          "traceback": [
            "\u001b[0;31m---------------------------------------------------------------------------\u001b[0m",
            "\u001b[0;31mRuntimeError\u001b[0m                              Traceback (most recent call last)",
            "\u001b[0;32m<ipython-input-72-cd566b39e405>\u001b[0m in \u001b[0;36m<module>\u001b[0;34m()\u001b[0m\n\u001b[0;32m----> 1\u001b[0;31m \u001b[0mevaluate\u001b[0m\u001b[0;34m(\u001b[0m\u001b[0mcnn\u001b[0m\u001b[0;34m)\u001b[0m\u001b[0;34m\u001b[0m\u001b[0;34m\u001b[0m\u001b[0m\n\u001b[0m",
            "\u001b[0;32m<ipython-input-71-2a13e444f393>\u001b[0m in \u001b[0;36mevaluate\u001b[0;34m(model)\u001b[0m\n\u001b[1;32m      6\u001b[0m     \u001b[0moutput\u001b[0m \u001b[0;34m=\u001b[0m \u001b[0mmodel\u001b[0m\u001b[0;34m(\u001b[0m\u001b[0mtest_imgs\u001b[0m\u001b[0;34m)\u001b[0m\u001b[0;34m\u001b[0m\u001b[0;34m\u001b[0m\u001b[0m\n\u001b[1;32m      7\u001b[0m     \u001b[0mpredicted\u001b[0m \u001b[0;34m=\u001b[0m \u001b[0mtorch\u001b[0m\u001b[0;34m.\u001b[0m\u001b[0mmax\u001b[0m\u001b[0;34m(\u001b[0m\u001b[0moutput\u001b[0m\u001b[0;34m,\u001b[0m\u001b[0;36m1\u001b[0m\u001b[0;34m)\u001b[0m\u001b[0;34m[\u001b[0m\u001b[0;36m1\u001b[0m\u001b[0;34m]\u001b[0m\u001b[0;34m\u001b[0m\u001b[0;34m\u001b[0m\u001b[0m\n\u001b[0;32m----> 8\u001b[0;31m     \u001b[0mcorrect\u001b[0m \u001b[0;34m+=\u001b[0m \u001b[0;34m(\u001b[0m\u001b[0mpredicted\u001b[0m \u001b[0;34m==\u001b[0m \u001b[0mtest_labels\u001b[0m\u001b[0;34m)\u001b[0m\u001b[0;34m.\u001b[0m\u001b[0msum\u001b[0m\u001b[0;34m(\u001b[0m\u001b[0;34m)\u001b[0m\u001b[0;34m\u001b[0m\u001b[0;34m\u001b[0m\u001b[0m\n\u001b[0m\u001b[1;32m      9\u001b[0m \u001b[0;34m\u001b[0m\u001b[0m\n\u001b[1;32m     10\u001b[0m   \u001b[0mprint\u001b[0m\u001b[0;34m(\u001b[0m\u001b[0;34m\"Test accuracy:{:.3f}% \"\u001b[0m\u001b[0;34m.\u001b[0m\u001b[0mformat\u001b[0m\u001b[0;34m(\u001b[0m \u001b[0mfloat\u001b[0m\u001b[0;34m(\u001b[0m\u001b[0mcorrect\u001b[0m\u001b[0;34m)\u001b[0m \u001b[0;34m/\u001b[0m \u001b[0;34m(\u001b[0m\u001b[0mlen\u001b[0m\u001b[0;34m(\u001b[0m\u001b[0mtest_loader\u001b[0m\u001b[0;34m)\u001b[0m\u001b[0;34m*\u001b[0m\u001b[0mBATCH_SIZE\u001b[0m\u001b[0;34m)\u001b[0m\u001b[0;34m)\u001b[0m\u001b[0;34m)\u001b[0m\u001b[0;34m\u001b[0m\u001b[0;34m\u001b[0m\u001b[0m\n",
            "\u001b[0;31mRuntimeError\u001b[0m: Expected object of backend CUDA but got backend CPU for argument #2 'other'"
          ]
        }
      ]
    },
    {
      "metadata": {
        "id": "l6Z4pWLW4wP2",
        "colab_type": "code",
        "colab": {}
      },
      "cell_type": "code",
      "source": [
        ""
      ],
      "execution_count": 0,
      "outputs": []
    }
  ]
}