{
  "nbformat": 4,
  "nbformat_minor": 0,
  "metadata": {
    "colab": {
      "name": "Pytorch_CNN_MNIST_kaggle.ipynb",
      "version": "0.3.2",
      "provenance": [],
      "collapsed_sections": [],
      "include_colab_link": true
    },
    "kernelspec": {
      "name": "python3",
      "display_name": "Python 3"
    },
    "accelerator": "GPU"
  },
  "cells": [
    {
      "cell_type": "markdown",
      "metadata": {
        "id": "view-in-github",
        "colab_type": "text"
      },
      "source": [
        "<a href=\"https://colab.research.google.com/github/We1rdguy/MNIST/blob/master/Pytorch_CNN_MNIST_kaggle.ipynb\" target=\"_parent\"><img src=\"https://colab.research.google.com/assets/colab-badge.svg\" alt=\"Open In Colab\"/></a>"
      ]
    },
    {
      "cell_type": "markdown",
      "metadata": {
        "id": "gFJ-1bAcLD7A",
        "colab_type": "text"
      },
      "source": [
        "# Imort useful tools\n"
      ]
    },
    {
      "cell_type": "code",
      "metadata": {
        "id": "IMVhfWVZbezS",
        "colab_type": "code",
        "colab": {}
      },
      "source": [
        "import numpy as np # to handle matrix and data operation\n",
        "import pandas as pd # to read csv and handle dataframe\n",
        "import os\n",
        "\n",
        "\n",
        "import torch\n",
        "import torch.nn as nn\n",
        "import torch.nn.functional as F\n",
        "import torch.utils.data\n",
        "from torch.autograd import Variable\n",
        "import torchvision.transforms as transforms\n",
        "from torchsummary import summary\n",
        "from sklearn.model_selection import train_test_split"
      ],
      "execution_count": 0,
      "outputs": []
    },
    {
      "cell_type": "code",
      "metadata": {
        "id": "AB0xgF9cf6zg",
        "colab_type": "code",
        "colab": {}
      },
      "source": [
        "import matplotlib.pyplot as plt\n",
        "import matplotlib.image as mpimg\n",
        "import seaborn as sns\n",
        "from sklearn.metrics import confusion_matrix\n",
        "%matplotlib inline"
      ],
      "execution_count": 0,
      "outputs": []
    },
    {
      "cell_type": "markdown",
      "metadata": {
        "id": "sPMBqLQ3LPbF",
        "colab_type": "text"
      },
      "source": [
        "# Loading Data from Google Drive\n"
      ]
    },
    {
      "cell_type": "code",
      "metadata": {
        "id": "YEFHUyNsbnKk",
        "colab_type": "code",
        "outputId": "4b05cf47-0578-414d-92c2-b49c2e71a6be",
        "colab": {
          "base_uri": "https://localhost:8080/",
          "height": 55
        }
      },
      "source": [
        "from google.colab import drive\n",
        "drive.mount('/content/gdrive')"
      ],
      "execution_count": 23,
      "outputs": [
        {
          "output_type": "stream",
          "text": [
            "Drive already mounted at /content/gdrive; to attempt to forcibly remount, call drive.mount(\"/content/gdrive\", force_remount=True).\n"
          ],
          "name": "stdout"
        }
      ]
    },
    {
      "cell_type": "code",
      "metadata": {
        "id": "58Pa7wJ4b8u8",
        "colab_type": "code",
        "colab": {
          "base_uri": "https://localhost:8080/",
          "height": 189
        },
        "outputId": "f7df9397-0f6d-44ad-e7a7-881f72f6052f"
      },
      "source": [
        "dataset_path=\"gdrive/My Drive/Dataset/MNIST\"\n",
        "os.chdir(dataset_path)"
      ],
      "execution_count": 24,
      "outputs": [
        {
          "output_type": "error",
          "ename": "FileNotFoundError",
          "evalue": "ignored",
          "traceback": [
            "\u001b[0;31m---------------------------------------------------------------------------\u001b[0m",
            "\u001b[0;31mFileNotFoundError\u001b[0m                         Traceback (most recent call last)",
            "\u001b[0;32m<ipython-input-24-0132df252c43>\u001b[0m in \u001b[0;36m<module>\u001b[0;34m()\u001b[0m\n\u001b[1;32m      1\u001b[0m \u001b[0mdataset_path\u001b[0m\u001b[0;34m=\u001b[0m\u001b[0;34m\"gdrive/My Drive/Dataset/MNIST\"\u001b[0m\u001b[0;34m\u001b[0m\u001b[0;34m\u001b[0m\u001b[0m\n\u001b[0;32m----> 2\u001b[0;31m \u001b[0mos\u001b[0m\u001b[0;34m.\u001b[0m\u001b[0mchdir\u001b[0m\u001b[0;34m(\u001b[0m\u001b[0mdataset_path\u001b[0m\u001b[0;34m)\u001b[0m\u001b[0;34m\u001b[0m\u001b[0;34m\u001b[0m\u001b[0m\n\u001b[0m",
            "\u001b[0;31mFileNotFoundError\u001b[0m: [Errno 2] No such file or directory: 'gdrive/My Drive/Dataset/MNIST'"
          ]
        }
      ]
    },
    {
      "cell_type": "code",
      "metadata": {
        "id": "5D-u7jtScVhs",
        "colab_type": "code",
        "outputId": "36641182-cbb8-4168-8fa1-b92e8a59ff89",
        "colab": {
          "base_uri": "https://localhost:8080/",
          "height": 54
        }
      },
      "source": [
        "! ls"
      ],
      "execution_count": 25,
      "outputs": [
        {
          "output_type": "stream",
          "text": [
            "digit-recognizer.zip  model_01.pth  sample_submission.csv  train.csv\n",
            "graph.png\t      model.pth     test.csv\n"
          ],
          "name": "stdout"
        }
      ]
    },
    {
      "cell_type": "markdown",
      "metadata": {
        "id": "QRAv31HeLXHq",
        "colab_type": "text"
      },
      "source": [
        "#  Training and Test data"
      ]
    },
    {
      "cell_type": "code",
      "metadata": {
        "id": "Ce6Fmcq-cssE",
        "colab_type": "code",
        "colab": {}
      },
      "source": [
        "train = pd.read_csv(\"train.csv\")\n",
        "test = pd.read_csv(\"test.csv\")"
      ],
      "execution_count": 0,
      "outputs": []
    },
    {
      "cell_type": "code",
      "metadata": {
        "id": "P8CJPgBDi9wa",
        "colab_type": "code",
        "outputId": "f18e55ea-6413-4809-ec27-6a1ee1cce7b4",
        "colab": {
          "base_uri": "https://localhost:8080/",
          "height": 484
        }
      },
      "source": [
        "Y_train = train['label']\n",
        "X_train = train.drop(['label'],1)\n",
        "\n",
        "\n",
        "# del train\n",
        "\n",
        "\n",
        "g = sns.countplot(Y_train)\n",
        "train['label'].value_counts()\n"
      ],
      "execution_count": 81,
      "outputs": [
        {
          "output_type": "execute_result",
          "data": {
            "text/plain": [
              "1    4684\n",
              "7    4401\n",
              "3    4351\n",
              "9    4188\n",
              "2    4177\n",
              "6    4137\n",
              "0    4132\n",
              "4    4072\n",
              "8    4063\n",
              "5    3795\n",
              "Name: label, dtype: int64"
            ]
          },
          "metadata": {
            "tags": []
          },
          "execution_count": 81
        },
        {
          "output_type": "display_data",
          "data": {
            "image/png": "[encoded data removed]",
            "text/plain": [
              "<Figure size 432x288 with 1 Axes>"
            ]
          },
          "metadata": {
            "tags": []
          }
        }
      ]
    },
    {
      "cell_type": "code",
      "metadata": {
        "id": "Pzt-l5ukkKcG",
        "colab_type": "code",
        "outputId": "f08f2a82-d0d7-47cf-ea90-df02a5dae220",
        "colab": {
          "base_uri": "https://localhost:8080/",
          "height": 108
        }
      },
      "source": [
        "X_train.isnull().any().describe()"
      ],
      "execution_count": 82,
      "outputs": [
        {
          "output_type": "execute_result",
          "data": {
            "text/plain": [
              "count       784\n",
              "unique        1\n",
              "top       False\n",
              "freq        784\n",
              "dtype: object"
            ]
          },
          "metadata": {
            "tags": []
          },
          "execution_count": 82
        }
      ]
    },
    {
      "cell_type": "code",
      "metadata": {
        "id": "nvBXituskKRO",
        "colab_type": "code",
        "outputId": "4026f74f-0dd6-436f-dd99-21689c581c3e",
        "colab": {
          "base_uri": "https://localhost:8080/",
          "height": 108
        }
      },
      "source": [
        "test.isnull().any().describe()"
      ],
      "execution_count": 83,
      "outputs": [
        {
          "output_type": "execute_result",
          "data": {
            "text/plain": [
              "count       784\n",
              "unique        1\n",
              "top       False\n",
              "freq        784\n",
              "dtype: object"
            ]
          },
          "metadata": {
            "tags": []
          },
          "execution_count": 83
        }
      ]
    },
    {
      "cell_type": "code",
      "metadata": {
        "id": "O7Qe5IcEkToM",
        "colab_type": "code",
        "outputId": "fcce749e-c641-4997-b568-d2d19ef4861d",
        "colab": {
          "base_uri": "https://localhost:8080/",
          "height": 54
        }
      },
      "source": [
        "# Normalize data\n",
        "\n",
        "# X_train = X_train / 255.0\n",
        "# test = test / 255.0\n",
        "\n",
        "print(X_train.shape)\n",
        "print(test.shape)\n",
        "\n",
        "# Reshape image in 3 dimensions (height = 28px, width = 28px , canal = 1)\n",
        "X_train = X_train.values.reshape(-1,28,28,1)\n",
        "test = test.values.reshape(-1,28,28,1)"
      ],
      "execution_count": 84,
      "outputs": [
        {
          "output_type": "stream",
          "text": [
            "(42000, 784)\n",
            "(28000, 784)\n"
          ],
          "name": "stdout"
        }
      ]
    },
    {
      "cell_type": "code",
      "metadata": {
        "id": "YzgqLQlhkTl5",
        "colab_type": "code",
        "outputId": "ec91782c-be1d-4439-a7a1-619b54683e2d",
        "colab": {
          "base_uri": "https://localhost:8080/",
          "height": 54
        }
      },
      "source": [
        "print(X_train.shape)\n",
        "print(test.shape)"
      ],
      "execution_count": 85,
      "outputs": [
        {
          "output_type": "stream",
          "text": [
            "(42000, 28, 28, 1)\n",
            "(28000, 28, 28, 1)\n"
          ],
          "name": "stdout"
        }
      ]
    },
    {
      "cell_type": "code",
      "metadata": {
        "id": "xfZhQVJbkTjN",
        "colab_type": "code",
        "colab": {}
      },
      "source": [
        "# Set the random seed\n",
        "random_seed = 2\n",
        "\n",
        "\n",
        "# Split the train and the validation set for the fitting\n",
        "x_train, x_val, y_train, y_val = train_test_split(X_train,\n",
        "                                                  Y_train.values,\n",
        "                                                  test_size = 0.2,\n",
        "                                                  random_state=random_seed)"
      ],
      "execution_count": 0,
      "outputs": []
    },
    {
      "cell_type": "code",
      "metadata": {
        "id": "1xWedrYgxD4w",
        "colab_type": "code",
        "outputId": "312e59a2-a3d4-49c5-a2bd-5066fd206d9f",
        "colab": {
          "base_uri": "https://localhost:8080/",
          "height": 90
        }
      },
      "source": [
        "print(x_train.shape)\n",
        "print(x_val.shape)\n",
        "print(y_train.shape)\n",
        "print(y_val.shape)"
      ],
      "execution_count": 87,
      "outputs": [
        {
          "output_type": "stream",
          "text": [
            "(33600, 28, 28, 1)\n",
            "(8400, 28, 28, 1)\n",
            "(33600,)\n",
            "(8400,)\n"
          ],
          "name": "stdout"
        }
      ]
    },
    {
      "cell_type": "code",
      "metadata": {
        "id": "-e5CKce4zOSg",
        "colab_type": "code",
        "outputId": "34682750-eb8b-48c9-b889-52454b7e5cbf",
        "colab": {
          "base_uri": "https://localhost:8080/",
          "height": 35
        }
      },
      "source": [
        "y_train[20].dtype"
      ],
      "execution_count": 88,
      "outputs": [
        {
          "output_type": "execute_result",
          "data": {
            "text/plain": [
              "dtype('int64')"
            ]
          },
          "metadata": {
            "tags": []
          },
          "execution_count": 88
        }
      ]
    },
    {
      "cell_type": "code",
      "metadata": {
        "id": "J3AIHFrxkTgv",
        "colab_type": "code",
        "outputId": "7ecd521b-e6b3-49ac-ac3f-ebef4b90b417",
        "colab": {
          "base_uri": "https://localhost:8080/",
          "height": 269
        }
      },
      "source": [
        "# Some examples\n",
        "g = plt.imshow(X_train[1][:,:,0])"
      ],
      "execution_count": 89,
      "outputs": [
        {
          "output_type": "display_data",
          "data": {
            "image/png": "[encoded data removed]",
            "text/plain": [
              "<Figure size 432x288 with 1 Axes>"
            ]
          },
          "metadata": {
            "tags": []
          }
        }
      ]
    },
    {
      "cell_type": "markdown",
      "metadata": {
        "id": "7jeLHI2KMFqM",
        "colab_type": "text"
      },
      "source": [
        "# CNN Model "
      ]
    },
    {
      "cell_type": "code",
      "metadata": {
        "id": "rpWMYVkwiX3z",
        "colab_type": "code",
        "outputId": "41dba562-aa8d-4d8e-f18c-23514225ac5a",
        "colab": {
          "base_uri": "https://localhost:8080/",
          "height": 637
        }
      },
      "source": [
        "\n",
        "class CNN(nn.Module):\n",
        "  def __init__(self):\n",
        "    super(CNN, self).__init__()\n",
        "    self.conv1 = nn.Conv2d(1, 32, kernel_size=5)\n",
        "    self.conv2 = nn.Conv2d(32, 32, kernel_size=5)\n",
        "    self.conv3 = nn.Conv2d(32,64, kernel_size=5)\n",
        "    self.fc1 = nn.Linear(3*3*64, 256)\n",
        "    self.fc2 = nn.Linear(256, 10)\n",
        "\n",
        "  def forward(self, x):\n",
        "    x = F.relu(self.conv1(x))\n",
        "    x = F.dropout(x, p=0.5, training=self.training)\n",
        "    x = F.relu(F.max_pool2d(self.conv2(x), 2))\n",
        "    x = F.dropout(x, p=0.5, training=self.training)\n",
        "    x = F.relu(F.max_pool2d(self.conv3(x),2))\n",
        "    x = F.dropout(x, p=0.5, training=self.training)\n",
        "    x = x.view(-1,3*3*64 )\n",
        "    x = F.relu(self.fc1(x))\n",
        "    x = F.dropout(x, training=self.training)\n",
        "    x = self.fc2(x)\n",
        "    return F.log_softmax(x, dim=1)\n",
        "\n",
        "device = torch.device(\"cuda\" if torch.cuda.is_available() else \"cpu\")\n",
        "model = CNN().to(device)\n",
        "\n",
        "learning_rate=0.00001\n",
        "optimizer = torch.optim.Adam(model.parameters(), lr=learning_rate)  \n",
        "criterion = nn.CrossEntropyLoss()\n",
        "\n",
        "# Print model's state_dict\n",
        "\n",
        "# summary(model, (1, 28, 28))\n",
        "\n",
        "\n",
        "print(\"Model's state_dict:\")\n",
        "for param_tensor in model.state_dict():\n",
        "    print(param_tensor, \"\\t\", model.state_dict()[param_tensor].size())\n",
        "\n",
        "# Print optimizer's state_dict\n",
        "print(\"Optimizer's state_dict:\")\n",
        "for var_name in optimizer.state_dict():\n",
        "    print(var_name, \"\\t\", optimizer.state_dict()[var_name])      \n",
        "    \n",
        "print(\"Model summary:\")\n",
        "summary(model, (1, 28, 28))"
      ],
      "execution_count": 90,
      "outputs": [
        {
          "output_type": "stream",
          "text": [
            "Model's state_dict:\n",
            "conv1.weight \t torch.Size([32, 1, 5, 5])\n",
            "conv1.bias \t torch.Size([32])\n",
            "conv2.weight \t torch.Size([32, 32, 5, 5])\n",
            "conv2.bias \t torch.Size([32])\n",
            "conv3.weight \t torch.Size([64, 32, 5, 5])\n",
            "conv3.bias \t torch.Size([64])\n",
            "fc1.weight \t torch.Size([256, 576])\n",
            "fc1.bias \t torch.Size([256])\n",
            "fc2.weight \t torch.Size([10, 256])\n",
            "fc2.bias \t torch.Size([10])\n",
            "Optimizer's state_dict:\n",
            "state \t {}\n",
            "param_groups \t [{'lr': 1e-05, 'betas': (0.9, 0.999), 'eps': 1e-08, 'weight_decay': 0, 'amsgrad': False, 'params': [140541468114520, 140541468113008, 140541468114304, 140541468112360, 140541468111136, 140541468111640, 140541468111064, 140541468114376, 140541468114736, 140541468112720]}]\n",
            "Model summary:\n",
            "----------------------------------------------------------------\n",
            "        Layer (type)               Output Shape         Param #\n",
            "================================================================\n",
            "            Conv2d-1           [-1, 32, 24, 24]             832\n",
            "            Conv2d-2           [-1, 32, 20, 20]          25,632\n",
            "            Conv2d-3             [-1, 64, 6, 6]          51,264\n",
            "            Linear-4                  [-1, 256]         147,712\n",
            "            Linear-5                   [-1, 10]           2,570\n",
            "================================================================\n",
            "Total params: 228,010\n",
            "Trainable params: 228,010\n",
            "Non-trainable params: 0\n",
            "----------------------------------------------------------------\n",
            "Input size (MB): 0.00\n",
            "Forward/backward pass size (MB): 0.26\n",
            "Params size (MB): 0.87\n",
            "Estimated Total Size (MB): 1.13\n",
            "----------------------------------------------------------------\n"
          ],
          "name": "stdout"
        }
      ]
    },
    {
      "cell_type": "markdown",
      "metadata": {
        "id": "qKOA4E7ELnZ8",
        "colab_type": "text"
      },
      "source": [
        "** Batch data **"
      ]
    },
    {
      "cell_type": "code",
      "metadata": {
        "id": "NlEDxO_qd1ir",
        "colab_type": "code",
        "colab": {}
      },
      "source": [
        "BATCH_SIZE = 64\n",
        "n_iters = 2500\n",
        "num_epochs = n_iters / (len(y_train) / BATCH_SIZE)\n",
        "num_epochs = int(num_epochs)\n",
        "EPOCHS=20\n",
        "\n",
        "torch_X_train = torch.from_numpy(x_train).type(torch.LongTensor)\n",
        "torch_Y_train = torch.from_numpy(y_train).type(torch.LongTensor) # data type is long\n",
        "\n",
        "# create feature and targets tensor for test set.\n",
        "torch_X_val = torch.from_numpy(x_val).type(torch.LongTensor)\n",
        "torch_Y_val = torch.from_numpy(y_val).type(torch.LongTensor) # data type is long\n",
        "\n",
        "\n",
        "\n",
        "torch_X_train = torch_X_train.view(-1, 1,28,28).float().cuda()\n",
        "torch_X_val = torch_X_val.view(-1,1,28,28).float().cuda()\n",
        "\n",
        "# Pytorch train and valid sets\n",
        "train = torch.utils.data.TensorDataset(torch_X_train,torch_Y_train)\n",
        "val = torch.utils.data.TensorDataset(torch_X_val,torch_Y_val)\n",
        "\n",
        "# data loader\n",
        "train_loader = torch.utils.data.DataLoader(train, batch_size = BATCH_SIZE, shuffle = False)\n",
        "val_loader = torch.utils.data.DataLoader(val, batch_size = BATCH_SIZE, shuffle = False)"
      ],
      "execution_count": 0,
      "outputs": []
    },
    {
      "cell_type": "code",
      "metadata": {
        "id": "noOfDMpehqcj",
        "colab_type": "code",
        "outputId": "3a070508-1355-4fd5-edc9-f1e14219a064",
        "colab": {
          "base_uri": "https://localhost:8080/",
          "height": 72
        }
      },
      "source": [
        "print(num_epochs)\n",
        "print(torch_X_train.shape)\n",
        "print(torch_X_val.shape)"
      ],
      "execution_count": 53,
      "outputs": [
        {
          "output_type": "stream",
          "text": [
            "2\n",
            "torch.Size([33600, 1, 28, 28])\n",
            "torch.Size([8400, 1, 28, 28])\n"
          ],
          "name": "stdout"
        }
      ]
    },
    {
      "cell_type": "code",
      "metadata": {
        "id": "uAt7_jZMMlPM",
        "colab_type": "code",
        "outputId": "74b2732d-00dd-41b1-e437-ccd454127d64",
        "colab": {
          "base_uri": "https://localhost:8080/",
          "height": 35
        }
      },
      "source": [
        "print(torch_Y_val[0])"
      ],
      "execution_count": 18,
      "outputs": [
        {
          "output_type": "stream",
          "text": [
            "tensor(6)\n"
          ],
          "name": "stdout"
        }
      ]
    },
    {
      "cell_type": "code",
      "metadata": {
        "id": "HZ8MoxHGlX2j",
        "colab_type": "code",
        "outputId": "ee251ac6-5080-4606-baba-3bfc7e8d53de",
        "colab": {
          "base_uri": "https://localhost:8080/",
          "height": 35
        }
      },
      "source": [
        "it = iter(train_loader)\n",
        "X_batch, y_batch = next(it)\n",
        "print(model.forward(X_batch).shape)"
      ],
      "execution_count": 92,
      "outputs": [
        {
          "output_type": "stream",
          "text": [
            "torch.Size([32, 10])\n"
          ],
          "name": "stdout"
        }
      ]
    },
    {
      "cell_type": "code",
      "metadata": {
        "id": "hERp61bRa0ch",
        "colab_type": "code",
        "colab": {
          "base_uri": "https://localhost:8080/",
          "height": 781
        },
        "outputId": "31e71bba-ad14-4877-9e2c-bdccf5a3c54b"
      },
      "source": [
        "count = 0\n",
        "loss_list = []\n",
        "iteration_list = []\n",
        "accuracy_list = []\n",
        "\n",
        "for epoch in range(EPOCHS):\n",
        "  for batch_idx, (X_batch, y_batch) in enumerate(train_loader):\n",
        "    var_X_batch = Variable(X_batch).cuda()\n",
        "    var_y_batch = Variable(y_batch).cuda()\n",
        "    \n",
        "    # Clear gradients\n",
        "    optimizer.zero_grad()\n",
        "    \n",
        "    # Forward propagation\n",
        "    outputs = model(var_X_batch)\n",
        "    \n",
        "    # Calculate softmax and ross entropy loss\n",
        "    loss = criterion(outputs, var_y_batch)\n",
        "    \n",
        "    # Calculating gradients\n",
        "    loss.backward()\n",
        "    \n",
        "    # Update parameters\n",
        "    optimizer.step()\n",
        "    count += 1\n",
        "    \n",
        "    if count % 50 == 0:\n",
        "      # Calculate Accuracy         \n",
        "      correct = 0\n",
        "      total = 0\n",
        "      for val_images, val_labels in val_loader:\n",
        "        var_val_images=Variable(val_images)\n",
        "        \n",
        "        outputs = model(var_val_images)\n",
        "        predicted = torch.max(outputs.data, 1)[1] \n",
        "        \n",
        "        # Total number of labels\n",
        "        total += len(var_y_batch)\n",
        "        correct += (predicted == val_labels.cuda()).sum()\n",
        "      accuracy = 100 * correct / float(total)\n",
        "      \n",
        "      # store loss and iteration\n",
        "      loss_list.append(loss.data)\n",
        "      iteration_list.append(count)\n",
        "      accuracy_list.append(accuracy)\n",
        "      if count % 500 == 0:\n",
        "          # Print Loss\n",
        "          print('Iteration: {}  Loss: {}  Accuracy: {} %'.format(count, loss.data, accuracy))\n",
        "    \n",
        "    \n"
      ],
      "execution_count": 74,
      "outputs": [
        {
          "output_type": "stream",
          "text": [
            "Iteration: 500  Loss: 0.5303150415420532  Accuracy: 80 %\n",
            "Iteration: 1000  Loss: 0.5386751294136047  Accuracy: 81 %\n",
            "Iteration: 1500  Loss: 0.6130690574645996  Accuracy: 82 %\n",
            "Iteration: 2000  Loss: 0.18475234508514404  Accuracy: 82 %\n",
            "Iteration: 2500  Loss: 0.6551680564880371  Accuracy: 83 %\n",
            "Iteration: 3000  Loss: 0.7211384177207947  Accuracy: 84 %\n",
            "Iteration: 3500  Loss: 0.5939787030220032  Accuracy: 84 %\n",
            "Iteration: 4000  Loss: 0.8705078959465027  Accuracy: 85 %\n",
            "Iteration: 4500  Loss: 0.3569573163986206  Accuracy: 85 %\n",
            "Iteration: 5000  Loss: 0.18972553312778473  Accuracy: 86 %\n",
            "Iteration: 5500  Loss: 0.47217094898223877  Accuracy: 86 %\n",
            "Iteration: 6000  Loss: 0.46535080671310425  Accuracy: 86 %\n",
            "Iteration: 6500  Loss: 0.20267871022224426  Accuracy: 86 %\n",
            "Iteration: 7000  Loss: 0.4798766076564789  Accuracy: 87 %\n",
            "Iteration: 7500  Loss: 0.460138738155365  Accuracy: 87 %\n",
            "Iteration: 8000  Loss: 0.6918459534645081  Accuracy: 87 %\n",
            "Iteration: 8500  Loss: 0.4458097219467163  Accuracy: 88 %\n",
            "Iteration: 9000  Loss: 0.6081178188323975  Accuracy: 88 %\n",
            "Iteration: 9500  Loss: 0.4343741238117218  Accuracy: 88 %\n",
            "Iteration: 10000  Loss: 0.14072056114673615  Accuracy: 89 %\n",
            "Iteration: 10500  Loss: 0.2824767529964447  Accuracy: 89 %\n",
            "Iteration: 11000  Loss: 0.2725151479244232  Accuracy: 89 %\n",
            "Iteration: 11500  Loss: 0.29509785771369934  Accuracy: 89 %\n",
            "Iteration: 12000  Loss: 0.154535174369812  Accuracy: 90 %\n",
            "Iteration: 12500  Loss: 0.13443075120449066  Accuracy: 90 %\n",
            "Iteration: 13000  Loss: 0.3977108299732208  Accuracy: 90 %\n",
            "Iteration: 13500  Loss: 0.5684119462966919  Accuracy: 90 %\n",
            "Iteration: 14000  Loss: 0.369693398475647  Accuracy: 90 %\n",
            "Iteration: 14500  Loss: 0.3109667897224426  Accuracy: 90 %\n",
            "Iteration: 15000  Loss: 0.13753704726696014  Accuracy: 91 %\n",
            "Iteration: 15500  Loss: 0.09185261279344559  Accuracy: 91 %\n",
            "Iteration: 16000  Loss: 0.2928442358970642  Accuracy: 91 %\n",
            "Iteration: 16500  Loss: 0.673738420009613  Accuracy: 91 %\n",
            "Iteration: 17000  Loss: 0.0719117522239685  Accuracy: 91 %\n",
            "Iteration: 17500  Loss: 0.22667400538921356  Accuracy: 91 %\n",
            "Iteration: 18000  Loss: 0.6140485405921936  Accuracy: 91 %\n",
            "Iteration: 18500  Loss: 0.5285544991493225  Accuracy: 92 %\n",
            "Iteration: 19000  Loss: 0.5277735590934753  Accuracy: 91 %\n",
            "Iteration: 19500  Loss: 0.15977294743061066  Accuracy: 92 %\n",
            "Iteration: 20000  Loss: 0.21271169185638428  Accuracy: 92 %\n",
            "Iteration: 20500  Loss: 0.18130430579185486  Accuracy: 92 %\n",
            "Iteration: 21000  Loss: 0.21286135911941528  Accuracy: 92 %\n"
          ],
          "name": "stdout"
        }
      ]
    },
    {
      "cell_type": "code",
      "metadata": {
        "id": "SsUbeMKl7tLe",
        "colab_type": "code",
        "colab": {}
      },
      "source": [
        ""
      ],
      "execution_count": 0,
      "outputs": []
    },
    {
      "cell_type": "code",
      "metadata": {
        "id": "tiHeh2_U38wz",
        "colab_type": "code",
        "colab": {
          "base_uri": "https://localhost:8080/",
          "height": 574
        },
        "outputId": "f7f6f91c-e3f6-405a-b41b-7b73c7f286f4"
      },
      "source": [
        "# visualization loss \n",
        "plt.plot(iteration_list,loss_list)\n",
        "plt.xlabel(\"Number of iteration\")\n",
        "plt.ylabel(\"Loss\")\n",
        "plt.title(\"CNN: Loss vs Number of iteration\")\n",
        "plt.show()\n",
        "\n",
        "# visualization accuracy \n",
        "plt.plot(iteration_list,accuracy_list,color = \"red\")\n",
        "plt.xlabel(\"Number of iteration\")\n",
        "plt.ylabel(\"Accuracy\")\n",
        "plt.title(\"CNN: Accuracy vs Number of iteration\")\n",
        "plt.show()"
      ],
      "execution_count": 101,
      "outputs": [
        {
          "output_type": "display_data",
          "data": {
            "image/png": "[encoded data removed]",
            "text/plain": [
              "<Figure size 432x288 with 1 Axes>"
            ]
          },
          "metadata": {
            "tags": []
          }
        },
        {
          "output_type": "display_data",
          "data": {
            "image/png": "[encoded data removed]",
            "text/plain": [
              "<Figure size 432x288 with 1 Axes>"
            ]
          },
          "metadata": {
            "tags": []
          }
        }
      ]
    },
    {
      "cell_type": "code",
      "metadata": {
        "id": "-aCnX8zMma8i",
        "colab_type": "code",
        "colab": {}
      },
      "source": [
        "def fit(model, train_loader):\n",
        "  \n",
        "  \n",
        "    count = 0\n",
        "    loss_list = []\n",
        "    iteration_list = []\n",
        "    accuracy_list = []\n",
        "    \n",
        "    criterion  = nn.CrossEntropyLoss()\n",
        "    EPOCHS = 30\n",
        "    model.train()\n",
        "    for epoch in range(EPOCHS):\n",
        "      correct = 0\n",
        "      for batch_idx, (X_batch, y_batch) in enumerate(train_loader):\n",
        "        var_X_batch = Variable(X_batch).cuda()\n",
        "        var_y_batch = Variable(y_batch).cuda()\n",
        "        \n",
        "\n",
        "        optimizer.zero_grad()\n",
        "        output = model(var_X_batch)\n",
        "        loss = criterion(output, var_y_batch)\n",
        "        loss.backward()\n",
        "        optimizer.step()\n",
        "        count += 1\n",
        "        \n",
        "        # Total correct predictions\n",
        "        predicted = torch.max(output.data, 1)[1] \n",
        "        \n",
        "        correct += (predicted == var_y_batch).sum().cuda()\n",
        "        \n",
        "        #print(correct)\n",
        "        if batch_idx % 50 == 0:\n",
        "          # Calculate Accuracy         \n",
        "          correct = 0\n",
        "          total = 0\n",
        "          \n",
        "          for val_images, val_labels in val_loader:\n",
        "            var_val_images=Variable(val_images)\n",
        "        \n",
        "            outputs = model(var_val_images)\n",
        "            predicted = torch.max(outputs.data, 1)[1] \n",
        "            \n",
        "            # Total number of labels\n",
        "            total += len(var_y_batch)\n",
        "            correct += (predicted == val_labels.cuda()).sum()\n",
        "            \n",
        "          accuracy = 100 * correct / float(total)\n",
        "          # store loss and iteration\n",
        "          loss_list.append(loss.data)\n",
        "          iteration_list.append(count)\n",
        "          accuracy_list.append(accuracy)\n",
        "          \n",
        "          \n",
        "          print('Epoch : {} [{}/{} ({:.0f}%)]\\tLoss: {:.6f}\\t Accuracy:{:.3f}%'.format(\n",
        "              epoch, \n",
        "              batch_idx*len(X_batch), \n",
        "              len(train_loader.dataset), \n",
        "              100.*batch_idx / len(train_loader), \n",
        "              loss.data, \n",
        "              accuracy))\n",
        "          \n",
        "          \n",
        "          \n",
        "          \n",
        "\n",
        "          "
      ],
      "execution_count": 0,
      "outputs": []
    },
    {
      "cell_type": "code",
      "metadata": {
        "id": "sS1__X82wxfw",
        "colab_type": "code",
        "outputId": "9e98d423-4f86-40fd-9daa-c09ff5f9e592",
        "colab": {
          "base_uri": "https://localhost:8080/",
          "height": 6017
        }
      },
      "source": [
        "fit(model,train_loader)"
      ],
      "execution_count": 99,
      "outputs": [
        {
          "output_type": "stream",
          "text": [
            "Epoch : 0 [0/33600 (0%)]\tLoss: 1.445977\t Accuracy:50.000%\n",
            "Epoch : 0 [3200/33600 (10%)]\tLoss: 1.354292\t Accuracy:50.000%\n",
            "Epoch : 0 [6400/33600 (19%)]\tLoss: 1.469144\t Accuracy:50.000%\n",
            "Epoch : 0 [9600/33600 (29%)]\tLoss: 1.183415\t Accuracy:50.000%\n",
            "Epoch : 0 [12800/33600 (38%)]\tLoss: 1.436738\t Accuracy:51.000%\n",
            "Epoch : 0 [16000/33600 (48%)]\tLoss: 1.571108\t Accuracy:52.000%\n",
            "Epoch : 0 [19200/33600 (57%)]\tLoss: 1.344626\t Accuracy:53.000%\n",
            "Epoch : 0 [22400/33600 (67%)]\tLoss: 1.546747\t Accuracy:53.000%\n",
            "Epoch : 0 [25600/33600 (76%)]\tLoss: 1.409317\t Accuracy:54.000%\n",
            "Epoch : 0 [28800/33600 (86%)]\tLoss: 1.480958\t Accuracy:54.000%\n",
            "Epoch : 0 [32000/33600 (95%)]\tLoss: 1.408155\t Accuracy:55.000%\n",
            "Epoch : 1 [0/33600 (0%)]\tLoss: 1.300982\t Accuracy:55.000%\n",
            "Epoch : 1 [3200/33600 (10%)]\tLoss: 1.242287\t Accuracy:56.000%\n",
            "Epoch : 1 [6400/33600 (19%)]\tLoss: 1.285126\t Accuracy:57.000%\n",
            "Epoch : 1 [9600/33600 (29%)]\tLoss: 1.291798\t Accuracy:57.000%\n",
            "Epoch : 1 [12800/33600 (38%)]\tLoss: 1.214556\t Accuracy:57.000%\n",
            "Epoch : 1 [16000/33600 (48%)]\tLoss: 1.275109\t Accuracy:58.000%\n",
            "Epoch : 1 [19200/33600 (57%)]\tLoss: 1.317023\t Accuracy:58.000%\n",
            "Epoch : 1 [22400/33600 (67%)]\tLoss: 1.310141\t Accuracy:59.000%\n",
            "Epoch : 1 [25600/33600 (76%)]\tLoss: 1.255270\t Accuracy:59.000%\n",
            "Epoch : 1 [28800/33600 (86%)]\tLoss: 1.350757\t Accuracy:59.000%\n",
            "Epoch : 1 [32000/33600 (95%)]\tLoss: 1.228328\t Accuracy:60.000%\n",
            "Epoch : 2 [0/33600 (0%)]\tLoss: 1.168247\t Accuracy:61.000%\n",
            "Epoch : 2 [3200/33600 (10%)]\tLoss: 1.070616\t Accuracy:61.000%\n",
            "Epoch : 2 [6400/33600 (19%)]\tLoss: 0.986298\t Accuracy:60.000%\n",
            "Epoch : 2 [9600/33600 (29%)]\tLoss: 1.046392\t Accuracy:62.000%\n",
            "Epoch : 2 [12800/33600 (38%)]\tLoss: 0.942912\t Accuracy:62.000%\n",
            "Epoch : 2 [16000/33600 (48%)]\tLoss: 0.931267\t Accuracy:62.000%\n",
            "Epoch : 2 [19200/33600 (57%)]\tLoss: 1.320044\t Accuracy:63.000%\n",
            "Epoch : 2 [22400/33600 (67%)]\tLoss: 1.424541\t Accuracy:63.000%\n",
            "Epoch : 2 [25600/33600 (76%)]\tLoss: 1.199697\t Accuracy:63.000%\n",
            "Epoch : 2 [28800/33600 (86%)]\tLoss: 1.123036\t Accuracy:63.000%\n",
            "Epoch : 2 [32000/33600 (95%)]\tLoss: 1.192138\t Accuracy:64.000%\n",
            "Epoch : 3 [0/33600 (0%)]\tLoss: 0.956078\t Accuracy:64.000%\n",
            "Epoch : 3 [3200/33600 (10%)]\tLoss: 1.236989\t Accuracy:65.000%\n",
            "Epoch : 3 [6400/33600 (19%)]\tLoss: 0.957951\t Accuracy:65.000%\n",
            "Epoch : 3 [9600/33600 (29%)]\tLoss: 0.887489\t Accuracy:64.000%\n",
            "Epoch : 3 [12800/33600 (38%)]\tLoss: 0.970816\t Accuracy:65.000%\n",
            "Epoch : 3 [16000/33600 (48%)]\tLoss: 1.055271\t Accuracy:65.000%\n",
            "Epoch : 3 [19200/33600 (57%)]\tLoss: 1.117593\t Accuracy:66.000%\n",
            "Epoch : 3 [22400/33600 (67%)]\tLoss: 1.048616\t Accuracy:67.000%\n",
            "Epoch : 3 [25600/33600 (76%)]\tLoss: 1.018743\t Accuracy:67.000%\n",
            "Epoch : 3 [28800/33600 (86%)]\tLoss: 0.818440\t Accuracy:67.000%\n",
            "Epoch : 3 [32000/33600 (95%)]\tLoss: 0.910612\t Accuracy:68.000%\n",
            "Epoch : 4 [0/33600 (0%)]\tLoss: 0.989032\t Accuracy:67.000%\n",
            "Epoch : 4 [3200/33600 (10%)]\tLoss: 1.016272\t Accuracy:68.000%\n",
            "Epoch : 4 [6400/33600 (19%)]\tLoss: 0.878455\t Accuracy:67.000%\n",
            "Epoch : 4 [9600/33600 (29%)]\tLoss: 0.893646\t Accuracy:68.000%\n",
            "Epoch : 4 [12800/33600 (38%)]\tLoss: 0.861504\t Accuracy:68.000%\n",
            "Epoch : 4 [16000/33600 (48%)]\tLoss: 0.864609\t Accuracy:69.000%\n",
            "Epoch : 4 [19200/33600 (57%)]\tLoss: 1.203239\t Accuracy:68.000%\n",
            "Epoch : 4 [22400/33600 (67%)]\tLoss: 1.141728\t Accuracy:69.000%\n",
            "Epoch : 4 [25600/33600 (76%)]\tLoss: 0.991431\t Accuracy:69.000%\n",
            "Epoch : 4 [28800/33600 (86%)]\tLoss: 1.008466\t Accuracy:70.000%\n",
            "Epoch : 4 [32000/33600 (95%)]\tLoss: 0.635005\t Accuracy:70.000%\n",
            "Epoch : 5 [0/33600 (0%)]\tLoss: 0.866748\t Accuracy:69.000%\n",
            "Epoch : 5 [3200/33600 (10%)]\tLoss: 0.958706\t Accuracy:70.000%\n",
            "Epoch : 5 [6400/33600 (19%)]\tLoss: 0.774103\t Accuracy:71.000%\n",
            "Epoch : 5 [9600/33600 (29%)]\tLoss: 0.696549\t Accuracy:72.000%\n",
            "Epoch : 5 [12800/33600 (38%)]\tLoss: 1.033733\t Accuracy:71.000%\n",
            "Epoch : 5 [16000/33600 (48%)]\tLoss: 0.904541\t Accuracy:71.000%\n",
            "Epoch : 5 [19200/33600 (57%)]\tLoss: 0.868263\t Accuracy:71.000%\n",
            "Epoch : 5 [22400/33600 (67%)]\tLoss: 0.788943\t Accuracy:72.000%\n",
            "Epoch : 5 [25600/33600 (76%)]\tLoss: 1.049346\t Accuracy:72.000%\n",
            "Epoch : 5 [28800/33600 (86%)]\tLoss: 0.833205\t Accuracy:73.000%\n",
            "Epoch : 5 [32000/33600 (95%)]\tLoss: 0.984986\t Accuracy:73.000%\n",
            "Epoch : 6 [0/33600 (0%)]\tLoss: 0.935163\t Accuracy:73.000%\n",
            "Epoch : 6 [3200/33600 (10%)]\tLoss: 0.787408\t Accuracy:73.000%\n",
            "Epoch : 6 [6400/33600 (19%)]\tLoss: 0.699335\t Accuracy:73.000%\n",
            "Epoch : 6 [9600/33600 (29%)]\tLoss: 0.665247\t Accuracy:74.000%\n",
            "Epoch : 6 [12800/33600 (38%)]\tLoss: 0.727981\t Accuracy:73.000%\n",
            "Epoch : 6 [16000/33600 (48%)]\tLoss: 0.752985\t Accuracy:73.000%\n",
            "Epoch : 6 [19200/33600 (57%)]\tLoss: 0.803613\t Accuracy:74.000%\n",
            "Epoch : 6 [22400/33600 (67%)]\tLoss: 0.914906\t Accuracy:74.000%\n",
            "Epoch : 6 [25600/33600 (76%)]\tLoss: 1.004040\t Accuracy:73.000%\n",
            "Epoch : 6 [28800/33600 (86%)]\tLoss: 0.877423\t Accuracy:74.000%\n",
            "Epoch : 6 [32000/33600 (95%)]\tLoss: 0.842526\t Accuracy:75.000%\n",
            "Epoch : 7 [0/33600 (0%)]\tLoss: 0.755603\t Accuracy:75.000%\n",
            "Epoch : 7 [3200/33600 (10%)]\tLoss: 0.787263\t Accuracy:75.000%\n",
            "Epoch : 7 [6400/33600 (19%)]\tLoss: 0.659543\t Accuracy:75.000%\n",
            "Epoch : 7 [9600/33600 (29%)]\tLoss: 0.896386\t Accuracy:76.000%\n",
            "Epoch : 7 [12800/33600 (38%)]\tLoss: 0.806313\t Accuracy:75.000%\n",
            "Epoch : 7 [16000/33600 (48%)]\tLoss: 0.655800\t Accuracy:76.000%\n",
            "Epoch : 7 [19200/33600 (57%)]\tLoss: 0.710598\t Accuracy:75.000%\n",
            "Epoch : 7 [22400/33600 (67%)]\tLoss: 0.800678\t Accuracy:76.000%\n",
            "Epoch : 7 [25600/33600 (76%)]\tLoss: 0.861425\t Accuracy:75.000%\n",
            "Epoch : 7 [28800/33600 (86%)]\tLoss: 0.925460\t Accuracy:76.000%\n",
            "Epoch : 7 [32000/33600 (95%)]\tLoss: 0.719237\t Accuracy:75.000%\n",
            "Epoch : 8 [0/33600 (0%)]\tLoss: 0.555458\t Accuracy:77.000%\n",
            "Epoch : 8 [3200/33600 (10%)]\tLoss: 0.758357\t Accuracy:76.000%\n",
            "Epoch : 8 [6400/33600 (19%)]\tLoss: 0.671506\t Accuracy:77.000%\n",
            "Epoch : 8 [9600/33600 (29%)]\tLoss: 0.581345\t Accuracy:77.000%\n",
            "Epoch : 8 [12800/33600 (38%)]\tLoss: 0.661525\t Accuracy:77.000%\n",
            "Epoch : 8 [16000/33600 (48%)]\tLoss: 0.688043\t Accuracy:78.000%\n",
            "Epoch : 8 [19200/33600 (57%)]\tLoss: 0.623520\t Accuracy:78.000%\n",
            "Epoch : 8 [22400/33600 (67%)]\tLoss: 0.687030\t Accuracy:77.000%\n",
            "Epoch : 8 [25600/33600 (76%)]\tLoss: 0.803652\t Accuracy:78.000%\n",
            "Epoch : 8 [28800/33600 (86%)]\tLoss: 0.644511\t Accuracy:78.000%\n",
            "Epoch : 8 [32000/33600 (95%)]\tLoss: 0.740439\t Accuracy:78.000%\n",
            "Epoch : 9 [0/33600 (0%)]\tLoss: 0.823082\t Accuracy:78.000%\n",
            "Epoch : 9 [3200/33600 (10%)]\tLoss: 0.677321\t Accuracy:79.000%\n",
            "Epoch : 9 [6400/33600 (19%)]\tLoss: 0.524622\t Accuracy:78.000%\n",
            "Epoch : 9 [9600/33600 (29%)]\tLoss: 0.719219\t Accuracy:79.000%\n",
            "Epoch : 9 [12800/33600 (38%)]\tLoss: 0.777335\t Accuracy:79.000%\n",
            "Epoch : 9 [16000/33600 (48%)]\tLoss: 0.696063\t Accuracy:79.000%\n",
            "Epoch : 9 [19200/33600 (57%)]\tLoss: 0.661703\t Accuracy:78.000%\n",
            "Epoch : 9 [22400/33600 (67%)]\tLoss: 0.760757\t Accuracy:78.000%\n",
            "Epoch : 9 [25600/33600 (76%)]\tLoss: 0.770874\t Accuracy:80.000%\n",
            "Epoch : 9 [28800/33600 (86%)]\tLoss: 0.598015\t Accuracy:79.000%\n",
            "Epoch : 9 [32000/33600 (95%)]\tLoss: 0.502624\t Accuracy:80.000%\n",
            "Epoch : 10 [0/33600 (0%)]\tLoss: 0.749070\t Accuracy:80.000%\n",
            "Epoch : 10 [3200/33600 (10%)]\tLoss: 0.589917\t Accuracy:80.000%\n",
            "Epoch : 10 [6400/33600 (19%)]\tLoss: 0.373572\t Accuracy:80.000%\n",
            "Epoch : 10 [9600/33600 (29%)]\tLoss: 0.534736\t Accuracy:80.000%\n",
            "Epoch : 10 [12800/33600 (38%)]\tLoss: 0.475041\t Accuracy:80.000%\n",
            "Epoch : 10 [16000/33600 (48%)]\tLoss: 0.461289\t Accuracy:80.000%\n",
            "Epoch : 10 [19200/33600 (57%)]\tLoss: 0.454649\t Accuracy:80.000%\n",
            "Epoch : 10 [22400/33600 (67%)]\tLoss: 0.698456\t Accuracy:80.000%\n",
            "Epoch : 10 [25600/33600 (76%)]\tLoss: 0.600408\t Accuracy:80.000%\n",
            "Epoch : 10 [28800/33600 (86%)]\tLoss: 0.738954\t Accuracy:80.000%\n",
            "Epoch : 10 [32000/33600 (95%)]\tLoss: 0.519987\t Accuracy:81.000%\n",
            "Epoch : 11 [0/33600 (0%)]\tLoss: 0.670618\t Accuracy:81.000%\n",
            "Epoch : 11 [3200/33600 (10%)]\tLoss: 0.750516\t Accuracy:81.000%\n",
            "Epoch : 11 [6400/33600 (19%)]\tLoss: 0.430123\t Accuracy:81.000%\n",
            "Epoch : 11 [9600/33600 (29%)]\tLoss: 0.490039\t Accuracy:81.000%\n",
            "Epoch : 11 [12800/33600 (38%)]\tLoss: 0.592459\t Accuracy:81.000%\n",
            "Epoch : 11 [16000/33600 (48%)]\tLoss: 0.627228\t Accuracy:81.000%\n",
            "Epoch : 11 [19200/33600 (57%)]\tLoss: 0.853793\t Accuracy:81.000%\n",
            "Epoch : 11 [22400/33600 (67%)]\tLoss: 0.704845\t Accuracy:82.000%\n",
            "Epoch : 11 [25600/33600 (76%)]\tLoss: 0.733432\t Accuracy:82.000%\n",
            "Epoch : 11 [28800/33600 (86%)]\tLoss: 0.424561\t Accuracy:82.000%\n",
            "Epoch : 11 [32000/33600 (95%)]\tLoss: 0.498967\t Accuracy:82.000%\n",
            "Epoch : 12 [0/33600 (0%)]\tLoss: 0.584490\t Accuracy:81.000%\n",
            "Epoch : 12 [3200/33600 (10%)]\tLoss: 0.592342\t Accuracy:82.000%\n",
            "Epoch : 12 [6400/33600 (19%)]\tLoss: 0.419972\t Accuracy:82.000%\n",
            "Epoch : 12 [9600/33600 (29%)]\tLoss: 0.411304\t Accuracy:82.000%\n",
            "Epoch : 12 [12800/33600 (38%)]\tLoss: 0.353210\t Accuracy:82.000%\n",
            "Epoch : 12 [16000/33600 (48%)]\tLoss: 0.317083\t Accuracy:83.000%\n",
            "Epoch : 12 [19200/33600 (57%)]\tLoss: 0.797740\t Accuracy:83.000%\n",
            "Epoch : 12 [22400/33600 (67%)]\tLoss: 0.780630\t Accuracy:82.000%\n",
            "Epoch : 12 [25600/33600 (76%)]\tLoss: 0.496103\t Accuracy:83.000%\n",
            "Epoch : 12 [28800/33600 (86%)]\tLoss: 0.425753\t Accuracy:83.000%\n",
            "Epoch : 12 [32000/33600 (95%)]\tLoss: 0.443253\t Accuracy:82.000%\n",
            "Epoch : 13 [0/33600 (0%)]\tLoss: 0.515790\t Accuracy:83.000%\n",
            "Epoch : 13 [3200/33600 (10%)]\tLoss: 0.516011\t Accuracy:83.000%\n",
            "Epoch : 13 [6400/33600 (19%)]\tLoss: 0.516510\t Accuracy:83.000%\n",
            "Epoch : 13 [9600/33600 (29%)]\tLoss: 0.919951\t Accuracy:84.000%\n",
            "Epoch : 13 [12800/33600 (38%)]\tLoss: 0.491158\t Accuracy:84.000%\n",
            "Epoch : 13 [16000/33600 (48%)]\tLoss: 0.492282\t Accuracy:83.000%\n",
            "Epoch : 13 [19200/33600 (57%)]\tLoss: 0.516081\t Accuracy:83.000%\n",
            "Epoch : 13 [22400/33600 (67%)]\tLoss: 0.487505\t Accuracy:83.000%\n",
            "Epoch : 13 [25600/33600 (76%)]\tLoss: 0.465940\t Accuracy:84.000%\n",
            "Epoch : 13 [28800/33600 (86%)]\tLoss: 0.524444\t Accuracy:84.000%\n",
            "Epoch : 13 [32000/33600 (95%)]\tLoss: 0.490014\t Accuracy:84.000%\n",
            "Epoch : 14 [0/33600 (0%)]\tLoss: 0.556646\t Accuracy:83.000%\n",
            "Epoch : 14 [3200/33600 (10%)]\tLoss: 0.531439\t Accuracy:84.000%\n",
            "Epoch : 14 [6400/33600 (19%)]\tLoss: 0.331641\t Accuracy:84.000%\n",
            "Epoch : 14 [9600/33600 (29%)]\tLoss: 0.384149\t Accuracy:85.000%\n",
            "Epoch : 14 [12800/33600 (38%)]\tLoss: 0.709889\t Accuracy:84.000%\n",
            "Epoch : 14 [16000/33600 (48%)]\tLoss: 0.339752\t Accuracy:84.000%\n",
            "Epoch : 14 [19200/33600 (57%)]\tLoss: 0.620920\t Accuracy:84.000%\n",
            "Epoch : 14 [22400/33600 (67%)]\tLoss: 0.490245\t Accuracy:85.000%\n",
            "Epoch : 14 [25600/33600 (76%)]\tLoss: 0.544781\t Accuracy:84.000%\n",
            "Epoch : 14 [28800/33600 (86%)]\tLoss: 0.461128\t Accuracy:84.000%\n",
            "Epoch : 14 [32000/33600 (95%)]\tLoss: 0.543431\t Accuracy:85.000%\n",
            "Epoch : 15 [0/33600 (0%)]\tLoss: 0.640857\t Accuracy:85.000%\n",
            "Epoch : 15 [3200/33600 (10%)]\tLoss: 0.648173\t Accuracy:85.000%\n",
            "Epoch : 15 [6400/33600 (19%)]\tLoss: 0.266234\t Accuracy:85.000%\n",
            "Epoch : 15 [9600/33600 (29%)]\tLoss: 0.414152\t Accuracy:85.000%\n",
            "Epoch : 15 [12800/33600 (38%)]\tLoss: 0.571001\t Accuracy:85.000%\n",
            "Epoch : 15 [16000/33600 (48%)]\tLoss: 0.322701\t Accuracy:85.000%\n",
            "Epoch : 15 [19200/33600 (57%)]\tLoss: 0.676915\t Accuracy:85.000%\n",
            "Epoch : 15 [22400/33600 (67%)]\tLoss: 0.333670\t Accuracy:85.000%\n",
            "Epoch : 15 [25600/33600 (76%)]\tLoss: 0.611932\t Accuracy:85.000%\n",
            "Epoch : 15 [28800/33600 (86%)]\tLoss: 0.656259\t Accuracy:85.000%\n",
            "Epoch : 15 [32000/33600 (95%)]\tLoss: 0.336043\t Accuracy:85.000%\n",
            "Epoch : 16 [0/33600 (0%)]\tLoss: 0.370090\t Accuracy:85.000%\n",
            "Epoch : 16 [3200/33600 (10%)]\tLoss: 0.580864\t Accuracy:85.000%\n",
            "Epoch : 16 [6400/33600 (19%)]\tLoss: 0.310632\t Accuracy:85.000%\n",
            "Epoch : 16 [9600/33600 (29%)]\tLoss: 0.610742\t Accuracy:85.000%\n",
            "Epoch : 16 [12800/33600 (38%)]\tLoss: 0.475114\t Accuracy:85.000%\n",
            "Epoch : 16 [16000/33600 (48%)]\tLoss: 0.237666\t Accuracy:86.000%\n",
            "Epoch : 16 [19200/33600 (57%)]\tLoss: 0.438059\t Accuracy:86.000%\n",
            "Epoch : 16 [22400/33600 (67%)]\tLoss: 0.543902\t Accuracy:86.000%\n",
            "Epoch : 16 [25600/33600 (76%)]\tLoss: 0.571628\t Accuracy:86.000%\n",
            "Epoch : 16 [28800/33600 (86%)]\tLoss: 0.283254\t Accuracy:86.000%\n",
            "Epoch : 16 [32000/33600 (95%)]\tLoss: 0.313928\t Accuracy:86.000%\n",
            "Epoch : 17 [0/33600 (0%)]\tLoss: 0.307781\t Accuracy:86.000%\n",
            "Epoch : 17 [3200/33600 (10%)]\tLoss: 0.403831\t Accuracy:86.000%\n",
            "Epoch : 17 [6400/33600 (19%)]\tLoss: 0.279560\t Accuracy:86.000%\n",
            "Epoch : 17 [9600/33600 (29%)]\tLoss: 0.175121\t Accuracy:86.000%\n",
            "Epoch : 17 [12800/33600 (38%)]\tLoss: 0.443794\t Accuracy:87.000%\n",
            "Epoch : 17 [16000/33600 (48%)]\tLoss: 0.367432\t Accuracy:86.000%\n",
            "Epoch : 17 [19200/33600 (57%)]\tLoss: 0.406837\t Accuracy:87.000%\n",
            "Epoch : 17 [22400/33600 (67%)]\tLoss: 0.405942\t Accuracy:87.000%\n",
            "Epoch : 17 [25600/33600 (76%)]\tLoss: 0.254582\t Accuracy:86.000%\n",
            "Epoch : 17 [28800/33600 (86%)]\tLoss: 0.469891\t Accuracy:86.000%\n",
            "Epoch : 17 [32000/33600 (95%)]\tLoss: 0.424268\t Accuracy:87.000%\n",
            "Epoch : 18 [0/33600 (0%)]\tLoss: 0.366880\t Accuracy:87.000%\n",
            "Epoch : 18 [3200/33600 (10%)]\tLoss: 0.558603\t Accuracy:86.000%\n",
            "Epoch : 18 [6400/33600 (19%)]\tLoss: 0.230911\t Accuracy:87.000%\n",
            "Epoch : 18 [9600/33600 (29%)]\tLoss: 0.264995\t Accuracy:87.000%\n",
            "Epoch : 18 [12800/33600 (38%)]\tLoss: 0.271828\t Accuracy:87.000%\n",
            "Epoch : 18 [16000/33600 (48%)]\tLoss: 0.419557\t Accuracy:87.000%\n",
            "Epoch : 18 [19200/33600 (57%)]\tLoss: 0.424603\t Accuracy:87.000%\n",
            "Epoch : 18 [22400/33600 (67%)]\tLoss: 0.427976\t Accuracy:87.000%\n",
            "Epoch : 18 [25600/33600 (76%)]\tLoss: 0.483298\t Accuracy:87.000%\n",
            "Epoch : 18 [28800/33600 (86%)]\tLoss: 0.334073\t Accuracy:87.000%\n",
            "Epoch : 18 [32000/33600 (95%)]\tLoss: 0.280844\t Accuracy:87.000%\n",
            "Epoch : 19 [0/33600 (0%)]\tLoss: 0.407100\t Accuracy:87.000%\n",
            "Epoch : 19 [3200/33600 (10%)]\tLoss: 0.482354\t Accuracy:86.000%\n",
            "Epoch : 19 [6400/33600 (19%)]\tLoss: 0.290938\t Accuracy:87.000%\n",
            "Epoch : 19 [9600/33600 (29%)]\tLoss: 0.371659\t Accuracy:87.000%\n",
            "Epoch : 19 [12800/33600 (38%)]\tLoss: 0.510524\t Accuracy:87.000%\n",
            "Epoch : 19 [16000/33600 (48%)]\tLoss: 0.560795\t Accuracy:87.000%\n",
            "Epoch : 19 [19200/33600 (57%)]\tLoss: 0.394136\t Accuracy:88.000%\n",
            "Epoch : 19 [22400/33600 (67%)]\tLoss: 0.366174\t Accuracy:87.000%\n",
            "Epoch : 19 [25600/33600 (76%)]\tLoss: 0.423369\t Accuracy:87.000%\n",
            "Epoch : 19 [28800/33600 (86%)]\tLoss: 0.390659\t Accuracy:88.000%\n",
            "Epoch : 19 [32000/33600 (95%)]\tLoss: 0.375402\t Accuracy:87.000%\n",
            "Epoch : 20 [0/33600 (0%)]\tLoss: 0.452304\t Accuracy:88.000%\n",
            "Epoch : 20 [3200/33600 (10%)]\tLoss: 0.522560\t Accuracy:88.000%\n",
            "Epoch : 20 [6400/33600 (19%)]\tLoss: 0.180851\t Accuracy:87.000%\n",
            "Epoch : 20 [9600/33600 (29%)]\tLoss: 0.344822\t Accuracy:88.000%\n",
            "Epoch : 20 [12800/33600 (38%)]\tLoss: 0.402470\t Accuracy:88.000%\n",
            "Epoch : 20 [16000/33600 (48%)]\tLoss: 0.248207\t Accuracy:88.000%\n",
            "Epoch : 20 [19200/33600 (57%)]\tLoss: 0.484788\t Accuracy:88.000%\n",
            "Epoch : 20 [22400/33600 (67%)]\tLoss: 0.312715\t Accuracy:88.000%\n",
            "Epoch : 20 [25600/33600 (76%)]\tLoss: 0.451961\t Accuracy:88.000%\n",
            "Epoch : 20 [28800/33600 (86%)]\tLoss: 0.422002\t Accuracy:88.000%\n",
            "Epoch : 20 [32000/33600 (95%)]\tLoss: 0.261934\t Accuracy:88.000%\n",
            "Epoch : 21 [0/33600 (0%)]\tLoss: 0.342527\t Accuracy:88.000%\n",
            "Epoch : 21 [3200/33600 (10%)]\tLoss: 0.370836\t Accuracy:88.000%\n",
            "Epoch : 21 [6400/33600 (19%)]\tLoss: 0.227539\t Accuracy:88.000%\n",
            "Epoch : 21 [9600/33600 (29%)]\tLoss: 0.232380\t Accuracy:88.000%\n",
            "Epoch : 21 [12800/33600 (38%)]\tLoss: 0.251357\t Accuracy:88.000%\n",
            "Epoch : 21 [16000/33600 (48%)]\tLoss: 0.282327\t Accuracy:88.000%\n",
            "Epoch : 21 [19200/33600 (57%)]\tLoss: 0.300370\t Accuracy:88.000%\n",
            "Epoch : 21 [22400/33600 (67%)]\tLoss: 0.364526\t Accuracy:89.000%\n",
            "Epoch : 21 [25600/33600 (76%)]\tLoss: 0.426314\t Accuracy:88.000%\n",
            "Epoch : 21 [28800/33600 (86%)]\tLoss: 0.449636\t Accuracy:88.000%\n",
            "Epoch : 21 [32000/33600 (95%)]\tLoss: 0.218787\t Accuracy:89.000%\n",
            "Epoch : 22 [0/33600 (0%)]\tLoss: 0.369557\t Accuracy:89.000%\n",
            "Epoch : 22 [3200/33600 (10%)]\tLoss: 0.389167\t Accuracy:88.000%\n",
            "Epoch : 22 [6400/33600 (19%)]\tLoss: 0.208039\t Accuracy:89.000%\n",
            "Epoch : 22 [9600/33600 (29%)]\tLoss: 0.503390\t Accuracy:88.000%\n",
            "Epoch : 22 [12800/33600 (38%)]\tLoss: 0.339935\t Accuracy:88.000%\n",
            "Epoch : 22 [16000/33600 (48%)]\tLoss: 0.236291\t Accuracy:89.000%\n",
            "Epoch : 22 [19200/33600 (57%)]\tLoss: 0.293210\t Accuracy:88.000%\n",
            "Epoch : 22 [22400/33600 (67%)]\tLoss: 0.298841\t Accuracy:88.000%\n",
            "Epoch : 22 [25600/33600 (76%)]\tLoss: 0.394018\t Accuracy:89.000%\n",
            "Epoch : 22 [28800/33600 (86%)]\tLoss: 0.542332\t Accuracy:88.000%\n",
            "Epoch : 22 [32000/33600 (95%)]\tLoss: 0.310133\t Accuracy:89.000%\n",
            "Epoch : 23 [0/33600 (0%)]\tLoss: 0.303325\t Accuracy:89.000%\n",
            "Epoch : 23 [3200/33600 (10%)]\tLoss: 0.401597\t Accuracy:89.000%\n",
            "Epoch : 23 [6400/33600 (19%)]\tLoss: 0.167327\t Accuracy:89.000%\n",
            "Epoch : 23 [9600/33600 (29%)]\tLoss: 0.383276\t Accuracy:89.000%\n",
            "Epoch : 23 [12800/33600 (38%)]\tLoss: 0.310477\t Accuracy:89.000%\n",
            "Epoch : 23 [16000/33600 (48%)]\tLoss: 0.248578\t Accuracy:89.000%\n",
            "Epoch : 23 [19200/33600 (57%)]\tLoss: 0.384957\t Accuracy:88.000%\n",
            "Epoch : 23 [22400/33600 (67%)]\tLoss: 0.293545\t Accuracy:89.000%\n",
            "Epoch : 23 [25600/33600 (76%)]\tLoss: 0.505101\t Accuracy:89.000%\n",
            "Epoch : 23 [28800/33600 (86%)]\tLoss: 0.410028\t Accuracy:89.000%\n",
            "Epoch : 23 [32000/33600 (95%)]\tLoss: 0.308928\t Accuracy:89.000%\n",
            "Epoch : 24 [0/33600 (0%)]\tLoss: 0.315067\t Accuracy:89.000%\n",
            "Epoch : 24 [3200/33600 (10%)]\tLoss: 0.481046\t Accuracy:89.000%\n",
            "Epoch : 24 [6400/33600 (19%)]\tLoss: 0.133691\t Accuracy:89.000%\n",
            "Epoch : 24 [9600/33600 (29%)]\tLoss: 0.355588\t Accuracy:89.000%\n",
            "Epoch : 24 [12800/33600 (38%)]\tLoss: 0.433689\t Accuracy:89.000%\n",
            "Epoch : 24 [16000/33600 (48%)]\tLoss: 0.230215\t Accuracy:89.000%\n",
            "Epoch : 24 [19200/33600 (57%)]\tLoss: 0.395708\t Accuracy:90.000%\n",
            "Epoch : 24 [22400/33600 (67%)]\tLoss: 0.335361\t Accuracy:89.000%\n",
            "Epoch : 24 [25600/33600 (76%)]\tLoss: 0.405274\t Accuracy:89.000%\n",
            "Epoch : 24 [28800/33600 (86%)]\tLoss: 0.341023\t Accuracy:89.000%\n",
            "Epoch : 24 [32000/33600 (95%)]\tLoss: 0.243616\t Accuracy:89.000%\n",
            "Epoch : 25 [0/33600 (0%)]\tLoss: 0.304472\t Accuracy:90.000%\n",
            "Epoch : 25 [3200/33600 (10%)]\tLoss: 0.341045\t Accuracy:89.000%\n",
            "Epoch : 25 [6400/33600 (19%)]\tLoss: 0.214718\t Accuracy:89.000%\n",
            "Epoch : 25 [9600/33600 (29%)]\tLoss: 0.388499\t Accuracy:90.000%\n",
            "Epoch : 25 [12800/33600 (38%)]\tLoss: 0.335872\t Accuracy:89.000%\n",
            "Epoch : 25 [16000/33600 (48%)]\tLoss: 0.173430\t Accuracy:89.000%\n",
            "Epoch : 25 [19200/33600 (57%)]\tLoss: 0.424882\t Accuracy:89.000%\n",
            "Epoch : 25 [22400/33600 (67%)]\tLoss: 0.392939\t Accuracy:89.000%\n",
            "Epoch : 25 [25600/33600 (76%)]\tLoss: 0.375275\t Accuracy:90.000%\n",
            "Epoch : 25 [28800/33600 (86%)]\tLoss: 0.306756\t Accuracy:89.000%\n",
            "Epoch : 25 [32000/33600 (95%)]\tLoss: 0.279385\t Accuracy:89.000%\n",
            "Epoch : 26 [0/33600 (0%)]\tLoss: 0.237921\t Accuracy:90.000%\n",
            "Epoch : 26 [3200/33600 (10%)]\tLoss: 0.345050\t Accuracy:90.000%\n",
            "Epoch : 26 [6400/33600 (19%)]\tLoss: 0.237508\t Accuracy:90.000%\n",
            "Epoch : 26 [9600/33600 (29%)]\tLoss: 0.453468\t Accuracy:90.000%\n",
            "Epoch : 26 [12800/33600 (38%)]\tLoss: 0.330971\t Accuracy:90.000%\n",
            "Epoch : 26 [16000/33600 (48%)]\tLoss: 0.195319\t Accuracy:90.000%\n",
            "Epoch : 26 [19200/33600 (57%)]\tLoss: 0.546709\t Accuracy:90.000%\n",
            "Epoch : 26 [22400/33600 (67%)]\tLoss: 0.279567\t Accuracy:90.000%\n",
            "Epoch : 26 [25600/33600 (76%)]\tLoss: 0.393322\t Accuracy:90.000%\n",
            "Epoch : 26 [28800/33600 (86%)]\tLoss: 0.293929\t Accuracy:90.000%\n",
            "Epoch : 26 [32000/33600 (95%)]\tLoss: 0.287018\t Accuracy:90.000%\n",
            "Epoch : 27 [0/33600 (0%)]\tLoss: 0.259789\t Accuracy:90.000%\n",
            "Epoch : 27 [3200/33600 (10%)]\tLoss: 0.271074\t Accuracy:90.000%\n",
            "Epoch : 27 [6400/33600 (19%)]\tLoss: 0.157317\t Accuracy:90.000%\n",
            "Epoch : 27 [9600/33600 (29%)]\tLoss: 0.250619\t Accuracy:90.000%\n",
            "Epoch : 27 [12800/33600 (38%)]\tLoss: 0.218727\t Accuracy:90.000%\n",
            "Epoch : 27 [16000/33600 (48%)]\tLoss: 0.225102\t Accuracy:90.000%\n",
            "Epoch : 27 [19200/33600 (57%)]\tLoss: 0.374624\t Accuracy:90.000%\n",
            "Epoch : 27 [22400/33600 (67%)]\tLoss: 0.252790\t Accuracy:90.000%\n",
            "Epoch : 27 [25600/33600 (76%)]\tLoss: 0.360134\t Accuracy:90.000%\n",
            "Epoch : 27 [28800/33600 (86%)]\tLoss: 0.371600\t Accuracy:90.000%\n",
            "Epoch : 27 [32000/33600 (95%)]\tLoss: 0.176559\t Accuracy:91.000%\n",
            "Epoch : 28 [0/33600 (0%)]\tLoss: 0.369127\t Accuracy:91.000%\n",
            "Epoch : 28 [3200/33600 (10%)]\tLoss: 0.265810\t Accuracy:91.000%\n",
            "Epoch : 28 [6400/33600 (19%)]\tLoss: 0.249531\t Accuracy:90.000%\n",
            "Epoch : 28 [9600/33600 (29%)]\tLoss: 0.170488\t Accuracy:90.000%\n",
            "Epoch : 28 [12800/33600 (38%)]\tLoss: 0.155500\t Accuracy:91.000%\n",
            "Epoch : 28 [16000/33600 (48%)]\tLoss: 0.130737\t Accuracy:90.000%\n",
            "Epoch : 28 [19200/33600 (57%)]\tLoss: 0.171898\t Accuracy:90.000%\n",
            "Epoch : 28 [22400/33600 (67%)]\tLoss: 0.269991\t Accuracy:90.000%\n",
            "Epoch : 28 [25600/33600 (76%)]\tLoss: 0.218105\t Accuracy:91.000%\n",
            "Epoch : 28 [28800/33600 (86%)]\tLoss: 0.338453\t Accuracy:91.000%\n",
            "Epoch : 28 [32000/33600 (95%)]\tLoss: 0.362154\t Accuracy:91.000%\n",
            "Epoch : 29 [0/33600 (0%)]\tLoss: 0.296569\t Accuracy:91.000%\n",
            "Epoch : 29 [3200/33600 (10%)]\tLoss: 0.335858\t Accuracy:91.000%\n",
            "Epoch : 29 [6400/33600 (19%)]\tLoss: 0.154124\t Accuracy:91.000%\n",
            "Epoch : 29 [9600/33600 (29%)]\tLoss: 0.275233\t Accuracy:90.000%\n",
            "Epoch : 29 [12800/33600 (38%)]\tLoss: 0.159654\t Accuracy:90.000%\n",
            "Epoch : 29 [16000/33600 (48%)]\tLoss: 0.233664\t Accuracy:91.000%\n",
            "Epoch : 29 [19200/33600 (57%)]\tLoss: 0.304222\t Accuracy:91.000%\n",
            "Epoch : 29 [22400/33600 (67%)]\tLoss: 0.325031\t Accuracy:90.000%\n",
            "Epoch : 29 [25600/33600 (76%)]\tLoss: 0.220087\t Accuracy:90.000%\n",
            "Epoch : 29 [28800/33600 (86%)]\tLoss: 0.242202\t Accuracy:91.000%\n",
            "Epoch : 29 [32000/33600 (95%)]\tLoss: 0.193512\t Accuracy:90.000%\n"
          ],
          "name": "stdout"
        }
      ]
    },
    {
      "cell_type": "code",
      "metadata": {
        "id": "rxZXM9XleQqC",
        "colab_type": "code",
        "outputId": "3778958d-98d7-41e7-9a35-bff6b930d257",
        "colab": {
          "base_uri": "https://localhost:8080/",
          "height": 35
        }
      },
      "source": [
        "\n",
        "PATH=dataset_path+\"/model.pth\"\n",
        "print(PATH)\n",
        "torch.save(model.state_dict(), \"model_01.pth\")"
      ],
      "execution_count": 100,
      "outputs": [
        {
          "output_type": "stream",
          "text": [
            "gdrive/My Drive/Dataset/MNIST/model.pth\n"
          ],
          "name": "stdout"
        }
      ]
    },
    {
      "cell_type": "code",
      "metadata": {
        "id": "zQt6nmWFmc76",
        "colab_type": "code",
        "outputId": "b0470f48-ba17-4a9e-b39d-f05b49b192fa",
        "colab": {
          "base_uri": "https://localhost:8080/",
          "height": 145
        }
      },
      "source": [
        "\n",
        "\n",
        "model = CNN()\n",
        "model.load_state_dict(torch.load( \"model.pth\"))\n",
        "model.eval()\n"
      ],
      "execution_count": 0,
      "outputs": [
        {
          "output_type": "execute_result",
          "data": {
            "text/plain": [
              "CNN(\n",
              "  (conv1): Conv2d(1, 32, kernel_size=(5, 5), stride=(1, 1))\n",
              "  (conv2): Conv2d(32, 32, kernel_size=(5, 5), stride=(1, 1))\n",
              "  (conv3): Conv2d(32, 64, kernel_size=(5, 5), stride=(1, 1))\n",
              "  (fc1): Linear(in_features=576, out_features=256, bias=True)\n",
              "  (fc2): Linear(in_features=256, out_features=10, bias=True)\n",
              ")"
            ]
          },
          "metadata": {
            "tags": []
          },
          "execution_count": 27
        }
      ]
    },
    {
      "cell_type": "code",
      "metadata": {
        "id": "870TcTCnm4Up",
        "colab_type": "code",
        "colab": {}
      },
      "source": [
        "def evaluate(model):\n",
        "  correct = 0\n",
        "  correct=correct\n",
        "  for val_imgs, val_labels in val_loader:\n",
        "    #print(test_imgs.shape)\n",
        "    val_imgs = Variable(val_imgs).float().cpu()\n",
        "    output = model(val_imgs)\n",
        "    predicted = torch.max(output,1)[1]\n",
        "    correct += (predicted == val_labels).sum()\n",
        "    \n",
        "  print(\"Test accuracy:{:.3f}% \".format( float(correct) / (len(val_loader)*BATCH_SIZE)))\n",
        "\n",
        "  \n"
      ],
      "execution_count": 0,
      "outputs": []
    },
    {
      "cell_type": "code",
      "metadata": {
        "id": "is7WcD3lqraI",
        "colab_type": "code",
        "outputId": "06cb7ef2-aa96-420f-fb69-7184720029ce",
        "colab": {
          "base_uri": "https://localhost:8080/",
          "height": 35
        }
      },
      "source": [
        "evaluate(model)"
      ],
      "execution_count": 0,
      "outputs": [
        {
          "output_type": "stream",
          "text": [
            "Test accuracy:0.978% \n"
          ],
          "name": "stdout"
        }
      ]
    },
    {
      "cell_type": "code",
      "metadata": {
        "id": "l6Z4pWLW4wP2",
        "colab_type": "code",
        "colab": {}
      },
      "source": [
        ""
      ],
      "execution_count": 0,
      "outputs": []
    }
  ]
}